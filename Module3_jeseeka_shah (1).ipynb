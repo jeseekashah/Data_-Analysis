{
 "cells": [
  {
   "cell_type": "markdown",
   "id": "721b1761",
   "metadata": {},
   "source": [
    "## Loading libraries"
   ]
  },
  {
   "cell_type": "code",
   "execution_count": 1,
   "id": "fb8d2cf3",
   "metadata": {},
   "outputs": [],
   "source": [
    "import bamboolib as bam \n",
    "import pandas as pd \n",
    "import matplotlib.pyplot as plt\n",
    "import numpy as np\n",
    "import pandas as pd\n",
    "import seaborn as sns\n",
    "import plotly.express as px\n",
    "import plotly.graph_objects as go\n",
    "from sklearn.model_selection import train_test_split\n",
    "from sklearn.linear_model import LogisticRegression\n",
    "from sklearn.metrics import classification_report\n",
    "from sklearn import metrics\n",
    "from sklearn.tree import DecisionTreeClassifier\n",
    "from sklearn.tree import DecisionTreeRegressor\n",
    "from sklearn import tree\n",
    "from sklearn.ensemble import RandomForestClassifier\n",
    "import statsmodels.api as sm\n",
    "from sklearn.metrics import roc_auc_score\n",
    "from sklearn.metrics import roc_curve\n",
    "from sklearn.feature_selection import RFE\n",
    "from sklearn.metrics import confusion_matrix\n",
    "from sklearn.metrics import accuracy_score, f1_score,recall_score,precision_score, confusion_matrix, mean_squared_error\n",
    "from plotly.subplots import make_subplots\n",
    "import mlxtend\n",
    "from mlxtend.feature_selection import SequentialFeatureSelector as SFS\n",
    "from mlxtend.plotting import plot_sequential_feature_selection as plot_sfs\n"
   ]
  },
  {
   "cell_type": "markdown",
   "id": "6fd5a309",
   "metadata": {},
   "source": [
    "## Importing excel data"
   ]
  },
  {
   "cell_type": "code",
   "execution_count": 2,
   "id": "4c680a41",
   "metadata": {},
   "outputs": [
    {
     "data": {
      "application/vnd.jupyter.widget-view+json": {
       "model_id": "42588131c3244e1dbec58ff864ef7ef2"
      },
      "text/plain": [
       "  $1000 Damage to Any One Person's Property Active School Zone Flag  \\\n",
       "0                                        No                      No   \n",
       "1                                        No                      No   \n",
       "2                                        No                      No   \n",
       "3                                        No                      No   \n",
       "4                                        No                      No   \n",
       "\n",
       "   At Intersection Flag Average Daily Traffic Amount Construction Zone Flag  \\\n",
       "0                 False                        15262                     No   \n",
       "1                 False                      No Data                     No   \n",
       "2                 False                      No Data                     No   \n",
       "3                 False                      No Data                     No   \n",
       "4                 False                        22775                     No   \n",
       "\n",
       "              Crash Severity  Crash Time  Crash Total Injury Count  \\\n",
       "0      Incapacitating Injury         239                         1   \n",
       "1  Non-Incapacitating Injury         310                         2   \n",
       "2  Non-Incapacitating Injury         310                         2   \n",
       "3  Non-Incapacitating Injury         310                         2   \n",
       "4  Non-Incapacitating Injury        2300                         1   \n",
       "\n",
       "   Crash Year Day of Week  Intersection Related      Roadway Part  \\\n",
       "0        2010      Friday      Non Intersection  Main/Proper Lane   \n",
       "1        2010      Friday      Non Intersection  Main/Proper Lane   \n",
       "2        2010      Friday      Non Intersection  Main/Proper Lane   \n",
       "3        2010      Friday      Non Intersection  Main/Proper Lane   \n",
       "4        2010      Monday  Intersection Related  Main/Proper Lane   \n",
       "\n",
       "   Speed Limit Surface Condition   Traffic Control Type  Person Helmet  \n",
       "0           45               Dry           Marked Lanes  Worn, Damaged  \n",
       "1           35               Dry  Center Stripe/Divider       Not Worn  \n",
       "2           35               Dry  Center Stripe/Divider       Not Worn  \n",
       "3           35               Dry  Center Stripe/Divider       Not Worn  \n",
       "4           45               Dry                   None       Not Worn  "
      ]
     },
     "metadata": {},
     "output_type": "display_data"
    }
   ],
   "source": [
    "df=pd.read_csv(\"bike_crash.csv\")\n",
    "df.head()"
   ]
  },
  {
   "cell_type": "code",
   "execution_count": 3,
   "id": "1807b47d",
   "metadata": {},
   "outputs": [
    {
     "data": {
      "application/vnd.jupyter.widget-view+json": {
       "model_id": "8e17cd3e09944d7ebbdaf37be225dd13"
      },
      "text/plain": [
       "     $1000 Damage to Any One Person's Property Active School Zone Flag  \\\n",
       "0                                           No                      No   \n",
       "1                                           No                      No   \n",
       "2                                           No                      No   \n",
       "3                                           No                      No   \n",
       "4                                           No                      No   \n",
       "...                                        ...                     ...   \n",
       "2458                                        No                      No   \n",
       "2459                                        No                      No   \n",
       "2460                                        No                      No   \n",
       "2461                                       Yes                      No   \n",
       "2462                                       Yes                      No   \n",
       "\n",
       "      At Intersection Flag Average Daily Traffic Amount  \\\n",
       "0                    False                        15262   \n",
       "1                    False                      No Data   \n",
       "2                    False                      No Data   \n",
       "3                    False                      No Data   \n",
       "4                    False                        22775   \n",
       "...                    ...                          ...   \n",
       "2458                  True                      No Data   \n",
       "2459                  True                      No Data   \n",
       "2460                  True                      No Data   \n",
       "2461                  True                      No Data   \n",
       "2462                  True                      No Data   \n",
       "\n",
       "     Construction Zone Flag             Crash Severity  Crash Time  \\\n",
       "0                        No      Incapacitating Injury         239   \n",
       "1                        No  Non-Incapacitating Injury         310   \n",
       "2                        No  Non-Incapacitating Injury         310   \n",
       "3                        No  Non-Incapacitating Injury         310   \n",
       "4                        No  Non-Incapacitating Injury        2300   \n",
       "...                     ...                        ...         ...   \n",
       "2458                     No  Non-Incapacitating Injury        1254   \n",
       "2459                     No  Non-Incapacitating Injury        2048   \n",
       "2460                     No                Not Injured         737   \n",
       "2461                     No  Non-Incapacitating Injury         930   \n",
       "2462                     No                Not Injured        1802   \n",
       "\n",
       "      Crash Total Injury Count  Crash Year Day of Week  Intersection Related  \\\n",
       "0                            1        2010      Friday      Non Intersection   \n",
       "1                            2        2010      Friday      Non Intersection   \n",
       "2                            2        2010      Friday      Non Intersection   \n",
       "3                            2        2010      Friday      Non Intersection   \n",
       "4                            1        2010      Monday  Intersection Related   \n",
       "...                        ...         ...         ...                   ...   \n",
       "2458                         1        2017     Tuesday  Intersection Related   \n",
       "2459                         1        2017     Tuesday      Non Intersection   \n",
       "2460                         0        2017    Thursday  Intersection Related   \n",
       "2461                         1        2017      Friday          Intersection   \n",
       "2462                         0        2017      Friday          Intersection   \n",
       "\n",
       "          Roadway Part  Speed Limit Surface Condition   Traffic Control Type  \\\n",
       "0     Main/Proper Lane           45               Dry           Marked Lanes   \n",
       "1     Main/Proper Lane           35               Dry  Center Stripe/Divider   \n",
       "2     Main/Proper Lane           35               Dry  Center Stripe/Divider   \n",
       "3     Main/Proper Lane           35               Dry  Center Stripe/Divider   \n",
       "4     Main/Proper Lane           45               Dry                   None   \n",
       "...                ...          ...               ...                    ...   \n",
       "2458  Main/Proper Lane           40               Dry           Signal Light   \n",
       "2459  Main/Proper Lane           -1               Dry  Center Stripe/Divider   \n",
       "2460  Main/Proper Lane           30               Wet           Signal Light   \n",
       "2461  Main/Proper Lane           -1               Dry              Stop Sign   \n",
       "2462  Main/Proper Lane           35               Dry           Marked Lanes   \n",
       "\n",
       "         Person Helmet  \n",
       "0        Worn, Damaged  \n",
       "1             Not Worn  \n",
       "2             Not Worn  \n",
       "3             Not Worn  \n",
       "4             Not Worn  \n",
       "...                ...  \n",
       "2458          Not Worn  \n",
       "2459          Not Worn  \n",
       "2460          Not Worn  \n",
       "2461  Worn, Unk Damage  \n",
       "2462          Not Worn  \n",
       "\n",
       "[2463 rows x 16 columns]"
      ]
     },
     "metadata": {},
     "output_type": "display_data"
    }
   ],
   "source": [
    "df"
   ]
  },
  {
   "cell_type": "markdown",
   "id": "669433c2",
   "metadata": {},
   "source": [
    "No missing values"
   ]
  },
  {
   "cell_type": "markdown",
   "id": "96130acf",
   "metadata": {},
   "source": [
    "## Data Cleanup"
   ]
  },
  {
   "cell_type": "code",
   "execution_count": 4,
   "id": "d193ed66",
   "metadata": {},
   "outputs": [
    {
     "data": {
      "text/plain": [
       "(2463, 16)"
      ]
     },
     "execution_count": 4,
     "metadata": {},
     "output_type": "execute_result"
    }
   ],
   "source": [
    "# Size of the dataset\n",
    "df.shape"
   ]
  },
  {
   "cell_type": "code",
   "execution_count": 5,
   "id": "685deea3",
   "metadata": {},
   "outputs": [
    {
     "data": {
      "text/plain": [
       "$1000 Damage to Any One Person's Property    object\n",
       "Active School Zone Flag                      object\n",
       "At Intersection Flag                           bool\n",
       "Average Daily Traffic Amount                 object\n",
       "Construction Zone Flag                       object\n",
       "Crash Severity                               object\n",
       "Crash Time                                    int64\n",
       "Crash Total Injury Count                      int64\n",
       "Crash Year                                    int64\n",
       "Day of Week                                  object\n",
       "Intersection Related                         object\n",
       "Roadway Part                                 object\n",
       "Speed Limit                                   int64\n",
       "Surface Condition                            object\n",
       "Traffic Control Type                         object\n",
       "Person Helmet                                object\n",
       "dtype: object"
      ]
     },
     "execution_count": 5,
     "metadata": {},
     "output_type": "execute_result"
    }
   ],
   "source": [
    "# data types\n",
    "df.dtypes"
   ]
  },
  {
   "cell_type": "code",
   "execution_count": 6,
   "id": "010ca559",
   "metadata": {},
   "outputs": [
    {
     "name": "stdout",
     "output_type": "stream",
     "text": [
      "<class 'pandas.core.frame.DataFrame'>\n",
      "RangeIndex: 2463 entries, 0 to 2462\n",
      "Data columns (total 16 columns):\n",
      " #   Column                                     Non-Null Count  Dtype \n",
      "---  ------                                     --------------  ----- \n",
      " 0   $1000 Damage to Any One Person's Property  2463 non-null   object\n",
      " 1   Active School Zone Flag                    2463 non-null   object\n",
      " 2   At Intersection Flag                       2463 non-null   bool  \n",
      " 3   Average Daily Traffic Amount               2463 non-null   object\n",
      " 4   Construction Zone Flag                     2463 non-null   object\n",
      " 5   Crash Severity                             2463 non-null   object\n",
      " 6   Crash Time                                 2463 non-null   int64 \n",
      " 7   Crash Total Injury Count                   2463 non-null   int64 \n",
      " 8   Crash Year                                 2463 non-null   int64 \n",
      " 9   Day of Week                                2463 non-null   object\n",
      " 10  Intersection Related                       2463 non-null   object\n",
      " 11  Roadway Part                               2463 non-null   object\n",
      " 12  Speed Limit                                2463 non-null   int64 \n",
      " 13  Surface Condition                          2463 non-null   object\n",
      " 14  Traffic Control Type                       2463 non-null   object\n",
      " 15  Person Helmet                              2463 non-null   object\n",
      "dtypes: bool(1), int64(4), object(11)\n",
      "memory usage: 291.2+ KB\n"
     ]
    }
   ],
   "source": [
    "df.info()"
   ]
  },
  {
   "cell_type": "code",
   "execution_count": 7,
   "id": "d1936bfe",
   "metadata": {},
   "outputs": [
    {
     "data": {
      "text/plain": [
       "Index(['$1000 Damage to Any One Person's Property', 'Active School Zone Flag',\n",
       "       'At Intersection Flag', 'Average Daily Traffic Amount',\n",
       "       'Construction Zone Flag', 'Crash Severity', 'Crash Time',\n",
       "       'Crash Total Injury Count', 'Crash Year', 'Day of Week',\n",
       "       'Intersection Related', 'Roadway Part', 'Speed Limit',\n",
       "       'Surface Condition', 'Traffic Control Type', 'Person Helmet'],\n",
       "      dtype='object')"
      ]
     },
     "execution_count": 7,
     "metadata": {},
     "output_type": "execute_result"
    }
   ],
   "source": [
    "# columns of the dataset \n",
    "df.columns"
   ]
  },
  {
   "cell_type": "code",
   "execution_count": 8,
   "id": "a5f8dfd0",
   "metadata": {},
   "outputs": [
    {
     "data": {
      "application/vnd.jupyter.widget-view+json": {
       "model_id": "26dba9af76c74dd3b13bd29c9fd20db3"
      },
      "text/plain": [
       "        Crash Time  Crash Total Injury Count   Crash Year  Speed Limit\n",
       "count  2463.000000               2463.000000  2463.000000  2463.000000\n",
       "mean   1404.700771                  1.092164  2013.403979    26.410881\n",
       "std     558.967560                  1.208230     2.248480    17.005282\n",
       "min       1.000000                  0.000000  2010.000000    -1.000000\n",
       "25%    1008.000000                  1.000000  2011.000000     0.000000\n",
       "50%    1532.000000                  1.000000  2013.000000    30.000000\n",
       "75%    1822.500000                  1.000000  2015.000000    35.000000\n",
       "max    2358.000000                 15.000000  2017.000000    65.000000"
      ]
     },
     "metadata": {},
     "output_type": "display_data"
    }
   ],
   "source": [
    "# Summary of the dataset\n",
    "df.describe()"
   ]
  },
  {
   "cell_type": "code",
   "execution_count": 9,
   "id": "7e99e9ca",
   "metadata": {},
   "outputs": [
    {
     "data": {
      "text/plain": [
       "$1000 Damage to Any One Person's Property    0\n",
       "Active School Zone Flag                      0\n",
       "At Intersection Flag                         0\n",
       "Average Daily Traffic Amount                 0\n",
       "Construction Zone Flag                       0\n",
       "Crash Severity                               0\n",
       "Crash Time                                   0\n",
       "Crash Total Injury Count                     0\n",
       "Crash Year                                   0\n",
       "Day of Week                                  0\n",
       "Intersection Related                         0\n",
       "Roadway Part                                 0\n",
       "Speed Limit                                  0\n",
       "Surface Condition                            0\n",
       "Traffic Control Type                         0\n",
       "Person Helmet                                0\n",
       "dtype: int64"
      ]
     },
     "execution_count": 9,
     "metadata": {},
     "output_type": "execute_result"
    }
   ],
   "source": [
    "# checking for null data\n",
    "df.isnull().sum()"
   ]
  },
  {
   "cell_type": "markdown",
   "id": "87caac93",
   "metadata": {},
   "source": [
    "No null values"
   ]
  },
  {
   "cell_type": "code",
   "execution_count": 10,
   "id": "fa3252b4",
   "metadata": {},
   "outputs": [
    {
     "data": {
      "image/png": "[encoded data removed]",
      "text/plain": [
       "<Figure size 936x792 with 4 Axes>"
      ]
     },
     "metadata": {
      "needs_background": "light"
     },
     "output_type": "display_data"
    }
   ],
   "source": [
    "# Histogram of numerical values\n",
    "df.hist(figsize=(13,11),bins=20)\n",
    "plt.show()"
   ]
  },
  {
   "cell_type": "code",
   "execution_count": 11,
   "id": "8c277335",
   "metadata": {},
   "outputs": [
    {
     "data": {
      "image/png": "[encoded data removed]",
      "text/plain": [
       "<Figure size 1152x1152 with 6 Axes>"
      ]
     },
     "metadata": {
      "needs_background": "light"
     },
     "output_type": "display_data"
    }
   ],
   "source": [
    "import matplotlib.pyplot as plt\n",
    "import seaborn as sns\n",
    "# dataset exploration based on categorical values\n",
    "fig, ax = plt.subplots(2,3, figsize=(16,16))\n",
    "a=sns.countplot(data=df, x='Crash Severity' , ax=ax[0,0])\n",
    "for container in a.containers:\n",
    "    a.bar_label(container)\n",
    "a=sns.countplot(data=df, x='Crash Total Injury Count' , ax=ax[0,1])\n",
    "for container in a.containers:\n",
    "    a.bar_label(container)\n",
    "a=sns.countplot(data=df, x='Speed Limit' , ax=ax[0,2])\n",
    "for container in a.containers:\n",
    "    a.bar_label(container)\n",
    "a=sns.countplot(data=df, x='Surface Condition' , ax=ax[1,0])\n",
    "for container in a.containers:\n",
    "    a.bar_label(container)\n",
    "a=sns.countplot(data=df, x='Person Helmet' , ax=ax[1,1])\n",
    "for container in a.containers:\n",
    "    a.bar_label(container)\n",
    "a=sns.countplot(data=df, x='Average Daily Traffic Amount' , ax=ax[1,2])\n",
    "for container in a.containers:\n",
    "    a.bar_label(container)"
   ]
  },
  {
   "cell_type": "code",
   "execution_count": 12,
   "id": "cec4be2d",
   "metadata": {},
   "outputs": [
    {
     "data": {
      "text/plain": [
       "<AxesSubplot:>"
      ]
     },
     "execution_count": 12,
     "metadata": {},
     "output_type": "execute_result"
    },
    {
     "data": {
      "image/png": "[encoded data removed]",
      "text/plain": [
       "<Figure size 720x360 with 1 Axes>"
      ]
     },
     "metadata": {
      "needs_background": "light"
     },
     "output_type": "display_data"
    }
   ],
   "source": [
    "df['Day of Week'].value_counts().plot(kind='bar',figsize=(10,5))"
   ]
  },
  {
   "cell_type": "markdown",
   "id": "979d32e4",
   "metadata": {},
   "source": [
    "##### There can be row duplicates but in this scenario we need to treat them as new bike crash cases."
   ]
  },
  {
   "cell_type": "markdown",
   "id": "620c3875",
   "metadata": {},
   "source": [
    "Average Daily Traffic Amount and Speed limit misinformation values"
   ]
  },
  {
   "cell_type": "markdown",
   "id": "44e59fc9",
   "metadata": {},
   "source": [
    "Average Daily Traffic Amount has some values as \"No Data\" which comprises of \"85.7% of data\".\n",
    "As most of the data is missing, I decided to remove this column"
   ]
  },
  {
   "cell_type": "code",
   "execution_count": 13,
   "id": "d83bc331",
   "metadata": {},
   "outputs": [
    {
     "data": {
      "application/vnd.jupyter.widget-view+json": {
       "model_id": "8a0f9d92f77149b09bfbf7683b958400"
      },
      "text/plain": [
       "  $1000 Damage to Any One Person's Property Active School Zone Flag  \\\n",
       "0                                        No                      No   \n",
       "1                                        No                      No   \n",
       "2                                        No                      No   \n",
       "3                                        No                      No   \n",
       "4                                        No                      No   \n",
       "\n",
       "   At Intersection Flag Construction Zone Flag             Crash Severity  \\\n",
       "0                 False                     No      Incapacitating Injury   \n",
       "1                 False                     No  Non-Incapacitating Injury   \n",
       "2                 False                     No  Non-Incapacitating Injury   \n",
       "3                 False                     No  Non-Incapacitating Injury   \n",
       "4                 False                     No  Non-Incapacitating Injury   \n",
       "\n",
       "   Crash Time  Crash Total Injury Count  Crash Year Day of Week  \\\n",
       "0         239                         1        2010      Friday   \n",
       "1         310                         2        2010      Friday   \n",
       "2         310                         2        2010      Friday   \n",
       "3         310                         2        2010      Friday   \n",
       "4        2300                         1        2010      Monday   \n",
       "\n",
       "   Intersection Related      Roadway Part  Speed Limit Surface Condition  \\\n",
       "0      Non Intersection  Main/Proper Lane           45               Dry   \n",
       "1      Non Intersection  Main/Proper Lane           35               Dry   \n",
       "2      Non Intersection  Main/Proper Lane           35               Dry   \n",
       "3      Non Intersection  Main/Proper Lane           35               Dry   \n",
       "4  Intersection Related  Main/Proper Lane           45               Dry   \n",
       "\n",
       "    Traffic Control Type  Person Helmet  \n",
       "0           Marked Lanes  Worn, Damaged  \n",
       "1  Center Stripe/Divider       Not Worn  \n",
       "2  Center Stripe/Divider       Not Worn  \n",
       "3  Center Stripe/Divider       Not Worn  \n",
       "4                   None       Not Worn  "
      ]
     },
     "metadata": {},
     "output_type": "display_data"
    }
   ],
   "source": [
    "del df[\"Average Daily Traffic Amount\"]\n",
    "df.head()"
   ]
  },
  {
   "cell_type": "markdown",
   "id": "eec06948",
   "metadata": {},
   "source": [
    "Speed Limit has value of \"\"-1\" for \"13.9%\" of data and value of \"0\" for \"11.3\" of data. As the percentage of data with these values aee low, we can replace by the mean of the Speed Limit as it has a normal distribution when 0 and -1 values are taken out. "
   ]
  },
  {
   "cell_type": "code",
   "execution_count": 14,
   "id": "088af864",
   "metadata": {},
   "outputs": [
    {
     "data": {
      "text/plain": [
       "35.520369364475826"
      ]
     },
     "execution_count": 14,
     "metadata": {},
     "output_type": "execute_result"
    }
   ],
   "source": [
    "# Speed Limit \n",
    "# filetring rows with Speed Limit > 0 \n",
    "speedLimitFilter = df.loc[df['Speed Limit'] > 0]\n",
    "# Calculating mean of the speed limit\n",
    "speedLimitFilter[\"Speed Limit\"].mean()"
   ]
  },
  {
   "cell_type": "markdown",
   "id": "8b44369b",
   "metadata": {},
   "source": [
    "The mean value of speed limit without 0 and -1 values is 35.52. Checking the normal values of Speed Limit, I have decide to round down to 35 to fill the existing values of 0 and -1 with. "
   ]
  },
  {
   "cell_type": "code",
   "execution_count": 15,
   "id": "d4705701",
   "metadata": {},
   "outputs": [],
   "source": [
    "df['Speed Limit'] = df['Speed Limit'].replace(0, 35)\n",
    "df['Speed Limit'] = df['Speed Limit'].replace(-1, 35)"
   ]
  },
  {
   "cell_type": "code",
   "execution_count": 16,
   "id": "91e8a617",
   "metadata": {},
   "outputs": [
    {
     "data": {
      "application/vnd.jupyter.widget-view+json": {
       "model_id": "ad206f1844bd435497072ffb9fd453f0"
      },
      "text/plain": [
       "     $1000 Damage to Any One Person's Property Active School Zone Flag  \\\n",
       "0                                           No                      No   \n",
       "1                                           No                      No   \n",
       "2                                           No                      No   \n",
       "3                                           No                      No   \n",
       "4                                           No                      No   \n",
       "...                                        ...                     ...   \n",
       "2458                                        No                      No   \n",
       "2459                                        No                      No   \n",
       "2460                                        No                      No   \n",
       "2461                                       Yes                      No   \n",
       "2462                                       Yes                      No   \n",
       "\n",
       "      At Intersection Flag Construction Zone Flag             Crash Severity  \\\n",
       "0                    False                     No      Incapacitating Injury   \n",
       "1                    False                     No  Non-Incapacitating Injury   \n",
       "2                    False                     No  Non-Incapacitating Injury   \n",
       "3                    False                     No  Non-Incapacitating Injury   \n",
       "4                    False                     No  Non-Incapacitating Injury   \n",
       "...                    ...                    ...                        ...   \n",
       "2458                  True                     No  Non-Incapacitating Injury   \n",
       "2459                  True                     No  Non-Incapacitating Injury   \n",
       "2460                  True                     No                Not Injured   \n",
       "2461                  True                     No  Non-Incapacitating Injury   \n",
       "2462                  True                     No                Not Injured   \n",
       "\n",
       "      Crash Time  Crash Total Injury Count  Crash Year Day of Week  \\\n",
       "0            239                         1        2010      Friday   \n",
       "1            310                         2        2010      Friday   \n",
       "2            310                         2        2010      Friday   \n",
       "3            310                         2        2010      Friday   \n",
       "4           2300                         1        2010      Monday   \n",
       "...          ...                       ...         ...         ...   \n",
       "2458        1254                         1        2017     Tuesday   \n",
       "2459        2048                         1        2017     Tuesday   \n",
       "2460         737                         0        2017    Thursday   \n",
       "2461         930                         1        2017      Friday   \n",
       "2462        1802                         0        2017      Friday   \n",
       "\n",
       "      Intersection Related      Roadway Part  Speed Limit Surface Condition  \\\n",
       "0         Non Intersection  Main/Proper Lane           45               Dry   \n",
       "1         Non Intersection  Main/Proper Lane           35               Dry   \n",
       "2         Non Intersection  Main/Proper Lane           35               Dry   \n",
       "3         Non Intersection  Main/Proper Lane           35               Dry   \n",
       "4     Intersection Related  Main/Proper Lane           45               Dry   \n",
       "...                    ...               ...          ...               ...   \n",
       "2458  Intersection Related  Main/Proper Lane           40               Dry   \n",
       "2459      Non Intersection  Main/Proper Lane           35               Dry   \n",
       "2460  Intersection Related  Main/Proper Lane           30               Wet   \n",
       "2461          Intersection  Main/Proper Lane           35               Dry   \n",
       "2462          Intersection  Main/Proper Lane           35               Dry   \n",
       "\n",
       "       Traffic Control Type     Person Helmet  \n",
       "0              Marked Lanes     Worn, Damaged  \n",
       "1     Center Stripe/Divider          Not Worn  \n",
       "2     Center Stripe/Divider          Not Worn  \n",
       "3     Center Stripe/Divider          Not Worn  \n",
       "4                      None          Not Worn  \n",
       "...                     ...               ...  \n",
       "2458           Signal Light          Not Worn  \n",
       "2459  Center Stripe/Divider          Not Worn  \n",
       "2460           Signal Light          Not Worn  \n",
       "2461              Stop Sign  Worn, Unk Damage  \n",
       "2462           Marked Lanes          Not Worn  \n",
       "\n",
       "[2463 rows x 15 columns]"
      ]
     },
     "metadata": {},
     "output_type": "display_data"
    }
   ],
   "source": [
    "df"
   ]
  },
  {
   "cell_type": "code",
   "execution_count": 17,
   "id": "9046e9b2",
   "metadata": {},
   "outputs": [
    {
     "data": {
      "text/plain": [
       "Index(['$1000 Damage to Any One Person's Property', 'Active School Zone Flag',\n",
       "       'At Intersection Flag', 'Construction Zone Flag', 'Crash Severity',\n",
       "       'Crash Time', 'Crash Total Injury Count', 'Crash Year', 'Day of Week',\n",
       "       'Intersection Related', 'Roadway Part', 'Speed Limit',\n",
       "       'Surface Condition', 'Traffic Control Type', 'Person Helmet'],\n",
       "      dtype='object')"
      ]
     },
     "execution_count": 17,
     "metadata": {},
     "output_type": "execute_result"
    }
   ],
   "source": [
    "df.columns"
   ]
  },
  {
   "cell_type": "markdown",
   "id": "446823bf",
   "metadata": {},
   "source": [
    "Adding severity column as a boolean value"
   ]
  },
  {
   "cell_type": "code",
   "execution_count": 18,
   "id": "6623adf3",
   "metadata": {},
   "outputs": [
    {
     "data": {
      "text/plain": [
       "array(['Incapacitating Injury', 'Non-Incapacitating Injury',\n",
       "       'Possible Injury', 'Not Injured', 'Killed'], dtype=object)"
      ]
     },
     "execution_count": 18,
     "metadata": {},
     "output_type": "execute_result"
    }
   ],
   "source": [
    "df['Crash Severity'].unique()"
   ]
  },
  {
   "cell_type": "markdown",
   "id": "6a03b199",
   "metadata": {},
   "source": [
    "['Incapacitating Injury', 'Possible Injury',  'Killed'] -> severity is 1\n",
    "['Non-Incapacitating Injury','Not Injured'] -> severity is 0"
   ]
  },
  {
   "cell_type": "code",
   "execution_count": 19,
   "id": "6ca88394",
   "metadata": {},
   "outputs": [
    {
     "data": {
      "application/vnd.jupyter.widget-view+json": {
       "model_id": "a059130bfdb74e09a907cc13a75e1542"
      },
      "text/plain": [
       "     $1000 Damage to Any One Person's Property Active School Zone Flag  \\\n",
       "2453                                       Yes                      No   \n",
       "2454                                       Yes                      No   \n",
       "2455                                        No                      No   \n",
       "2456                                        No                      No   \n",
       "2457                                        No                      No   \n",
       "2458                                        No                      No   \n",
       "2459                                        No                      No   \n",
       "2460                                        No                      No   \n",
       "2461                                       Yes                      No   \n",
       "2462                                       Yes                      No   \n",
       "\n",
       "      At Intersection Flag Construction Zone Flag  Crash Time  \\\n",
       "2453                  True                     No         748   \n",
       "2454                  True                     No        1732   \n",
       "2455                  True                     No        1904   \n",
       "2456                  True                     No        1930   \n",
       "2457                 False                     No        1530   \n",
       "2458                  True                     No        1254   \n",
       "2459                  True                     No        2048   \n",
       "2460                  True                     No         737   \n",
       "2461                  True                     No         930   \n",
       "2462                  True                     No        1802   \n",
       "\n",
       "      Crash Total Injury Count  Crash Year Day of Week  Intersection Related  \\\n",
       "2453                         1        2017    Thursday  Intersection Related   \n",
       "2454                         1        2017    Thursday  Intersection Related   \n",
       "2455                         1        2017      Friday  Intersection Related   \n",
       "2456                         1        2017    Saturday  Intersection Related   \n",
       "2457                         1        2017      Monday      Non Intersection   \n",
       "2458                         1        2017     Tuesday  Intersection Related   \n",
       "2459                         1        2017     Tuesday      Non Intersection   \n",
       "2460                         0        2017    Thursday  Intersection Related   \n",
       "2461                         1        2017      Friday          Intersection   \n",
       "2462                         0        2017      Friday          Intersection   \n",
       "\n",
       "          Roadway Part  Speed Limit Surface Condition   Traffic Control Type  \\\n",
       "2453  Main/Proper Lane           35               Dry           Signal Light   \n",
       "2454  Main/Proper Lane           35               Dry                   None   \n",
       "2455  Main/Proper Lane           35               Dry                   None   \n",
       "2456  Main/Proper Lane           45               Dry           Signal Light   \n",
       "2457  Main/Proper Lane           15               Dry           Marked Lanes   \n",
       "2458  Main/Proper Lane           40               Dry           Signal Light   \n",
       "2459  Main/Proper Lane           35               Dry  Center Stripe/Divider   \n",
       "2460  Main/Proper Lane           30               Wet           Signal Light   \n",
       "2461  Main/Proper Lane           35               Dry              Stop Sign   \n",
       "2462  Main/Proper Lane           35               Dry           Marked Lanes   \n",
       "\n",
       "          Person Helmet  severity  \n",
       "2453           Not Worn         1  \n",
       "2454  Worn, Not Damaged         1  \n",
       "2455           Not Worn         1  \n",
       "2456           Not Worn         1  \n",
       "2457           Not Worn         0  \n",
       "2458           Not Worn         0  \n",
       "2459           Not Worn         0  \n",
       "2460           Not Worn         0  \n",
       "2461   Worn, Unk Damage         0  \n",
       "2462           Not Worn         0  "
      ]
     },
     "metadata": {},
     "output_type": "display_data"
    }
   ],
   "source": [
    "def categorise(row):  \n",
    "    if row['Crash Severity'] in 'Incapacitating Injury':\n",
    "        return 1\n",
    "    elif row['Crash Severity'] in 'Possible Injury':\n",
    "        return 1\n",
    "    elif row['Crash Severity'] in 'Killed':\n",
    "        return 1\n",
    "    return 0\n",
    "\n",
    "df['severity'] = df.apply(lambda row: categorise(row), axis=1)\n",
    "del df[\"Crash Severity\"]\n",
    "df.tail(10)"
   ]
  },
  {
   "cell_type": "code",
   "execution_count": 20,
   "id": "7dc51984",
   "metadata": {},
   "outputs": [],
   "source": [
    "# Replacing \"Surface Condition\" Unknown values with mode of the colun \"Dry\"\n",
    "df['Surface Condition'] = df['Surface Condition'].replace('Unknown', 'Dry')"
   ]
  },
  {
   "cell_type": "markdown",
   "id": "06cbc1b5",
   "metadata": {},
   "source": [
    "## Cattegorical means of the dataset "
   ]
  },
  {
   "cell_type": "code",
   "execution_count": 22,
   "id": "ba4e4518",
   "metadata": {},
   "outputs": [
    {
     "data": {
      "text/plain": [
       "Index(['$1000 Damage to Any One Person's Property', 'Active School Zone Flag',\n",
       "       'At Intersection Flag', 'Construction Zone Flag', 'Crash Time',\n",
       "       'Crash Total Injury Count', 'Crash Year', 'Day of Week',\n",
       "       'Intersection Related', 'Roadway Part', 'Speed Limit',\n",
       "       'Surface Condition', 'Traffic Control Type', 'Person Helmet',\n",
       "       'severity'],\n",
       "      dtype='object')"
      ]
     },
     "execution_count": 22,
     "metadata": {},
     "output_type": "execute_result"
    }
   ],
   "source": [
    "df.columns"
   ]
  },
  {
   "cell_type": "code",
   "execution_count": 23,
   "id": "b4ca6850",
   "metadata": {},
   "outputs": [
    {
     "data": {
      "application/vnd.jupyter.widget-view+json": {
       "model_id": "7cd10c80c5f94d14bb9d8efd4fd02d7c"
      },
      "text/plain": [
       "                                           At Intersection Flag   Crash Time  \\\n",
       "$1000 Damage to Any One Person's Property                                      \n",
       "Yes                                                    0.520604  1353.807692   \n",
       "No                                                     0.527378  1426.055331   \n",
       "\n",
       "                                           Crash Total Injury Count  \\\n",
       "$1000 Damage to Any One Person's Property                             \n",
       "Yes                                                        1.413462   \n",
       "No                                                         0.957349   \n",
       "\n",
       "                                            Crash Year  Speed Limit  severity  \n",
       "$1000 Damage to Any One Person's Property                                      \n",
       "Yes                                        2013.559066    35.701923  0.383242  \n",
       "No                                         2013.338905    35.257637  0.315274  "
      ]
     },
     "metadata": {},
     "output_type": "display_data"
    }
   ],
   "source": [
    "# $1000 Damage to Any One Person\\'s Property \n",
    "(df.groupby('$1000 Damage to Any One Person\\'s Property').mean()).sort_values(by=['severity'], ascending=False)\n"
   ]
  },
  {
   "cell_type": "code",
   "execution_count": 24,
   "id": "00544657",
   "metadata": {},
   "outputs": [
    {
     "data": {
      "application/vnd.jupyter.widget-view+json": {
       "model_id": "221f57adda1246d68b8e13fa0507ba13"
      },
      "text/plain": [
       "                         At Intersection Flag   Crash Time  \\\n",
       "Active School Zone Flag                                      \n",
       "No                                   0.526016  1405.252033   \n",
       "Yes                                  0.000000   952.666667   \n",
       "\n",
       "                         Crash Total Injury Count   Crash Year  Speed Limit  \\\n",
       "Active School Zone Flag                                                       \n",
       "No                                       1.092276  2013.404878    35.395528   \n",
       "Yes                                      1.000000  2012.666667    30.000000   \n",
       "\n",
       "                         severity  \n",
       "Active School Zone Flag            \n",
       "No                       0.335366  \n",
       "Yes                      0.333333  "
      ]
     },
     "metadata": {},
     "output_type": "display_data"
    }
   ],
   "source": [
    "# Active School Zone Flag\n",
    "df.groupby('Active School Zone Flag').mean().sort_values(by=['severity'], ascending=False)"
   ]
  },
  {
   "cell_type": "code",
   "execution_count": 25,
   "id": "30b4f481",
   "metadata": {},
   "outputs": [
    {
     "data": {
      "application/vnd.jupyter.widget-view+json": {
       "model_id": "69ea6a5125634798a11dd14276b38b43"
      },
      "text/plain": [
       "                       Crash Time  Crash Total Injury Count   Crash Year  \\\n",
       "At Intersection Flag                                                       \n",
       "False                 1350.644996                  1.211292  2013.325064   \n",
       "True                  1453.534776                  0.984544  2013.475270   \n",
       "\n",
       "                      Speed Limit  severity  \n",
       "At Intersection Flag                         \n",
       "False                   35.680068  0.347305  \n",
       "True                    35.125966  0.324575  "
      ]
     },
     "metadata": {},
     "output_type": "display_data"
    }
   ],
   "source": [
    "# At Intersection Flag\n",
    "(df.groupby('At Intersection Flag').mean()).sort_values(by=['severity'], ascending=False)"
   ]
  },
  {
   "cell_type": "code",
   "execution_count": 26,
   "id": "b33c9485",
   "metadata": {},
   "outputs": [
    {
     "data": {
      "application/vnd.jupyter.widget-view+json": {
       "model_id": "c086aef049c647a298f452ac4fbf2978"
      },
      "text/plain": [
       "                        At Intersection Flag   Crash Time  \\\n",
       "Construction Zone Flag                                      \n",
       "No                                  0.525688  1404.641184   \n",
       "Yes                                 0.500000  1409.533333   \n",
       "\n",
       "                        Crash Total Injury Count   Crash Year  Speed Limit  \\\n",
       "Construction Zone Flag                                                       \n",
       "No                                      1.094122  2013.413070    35.393753   \n",
       "Yes                                     0.933333  2012.666667    35.000000   \n",
       "\n",
       "                        severity  \n",
       "Construction Zone Flag            \n",
       "No                      0.335799  \n",
       "Yes                     0.300000  "
      ]
     },
     "metadata": {},
     "output_type": "display_data"
    }
   ],
   "source": [
    "# Construction Zone Flag\n",
    "(df.groupby('Construction Zone Flag').mean()).sort_values(by=['severity'], ascending=False)"
   ]
  },
  {
   "cell_type": "code",
   "execution_count": 27,
   "id": "564f5e2d",
   "metadata": {},
   "outputs": [
    {
     "data": {
      "application/vnd.jupyter.widget-view+json": {
       "model_id": "0fa19c68ff424b8582b7c249bca10b12"
      },
      "text/plain": [
       "            At Intersection Flag   Crash Time  Crash Total Injury Count  \\\n",
       "Crash Year                                                                \n",
       "2016                    0.565836  1417.099644                  0.989324   \n",
       "2015                    0.541353  1436.654135                  0.958647   \n",
       "2017                    0.513514  1445.959459                  1.020270   \n",
       "2011                    0.526316  1429.581579                  1.571053   \n",
       "2010                    0.459770  1339.977011                  1.019157   \n",
       "2014                    0.561905  1388.758730                  1.009524   \n",
       "2013                    0.509146  1399.448171                  1.030488   \n",
       "2012                    0.520833  1374.898810                  1.000000   \n",
       "\n",
       "            Speed Limit  severity  \n",
       "Crash Year                         \n",
       "2016          35.249110  0.398577  \n",
       "2015          34.687970  0.360902  \n",
       "2017          35.219595  0.351351  \n",
       "2011          35.065789  0.350000  \n",
       "2010          36.417625  0.325670  \n",
       "2014          35.904762  0.314286  \n",
       "2013          35.551829  0.310976  \n",
       "2012          35.133929  0.282738  "
      ]
     },
     "metadata": {},
     "output_type": "display_data"
    }
   ],
   "source": [
    "# Crash Year\n",
    "(df.groupby('Crash Year').mean()).sort_values(by=['severity'], ascending=False)"
   ]
  },
  {
   "cell_type": "code",
   "execution_count": 28,
   "id": "2bb76aa4",
   "metadata": {},
   "outputs": [
    {
     "data": {
      "application/vnd.jupyter.widget-view+json": {
       "model_id": "afc39c4184b84394a7377b03a38d9441"
      },
      "text/plain": [
       "             At Intersection Flag   Crash Time  Crash Total Injury Count  \\\n",
       "Day of Week                                                                \n",
       "Wednesday                0.475325  1462.090909                  1.561039   \n",
       "Monday                   0.527869  1416.114754                  1.003279   \n",
       "Tuesday                  0.587013  1443.353247                  0.963636   \n",
       "Saturday                 0.503165  1330.177215                  1.022152   \n",
       "Thursday                 0.550964  1448.176309                  0.997245   \n",
       "Friday                   0.528736  1430.593103                  0.993103   \n",
       "Sunday                   0.492701  1244.288321                  1.076642   \n",
       "\n",
       "              Crash Year  Speed Limit  severity  \n",
       "Day of Week                                      \n",
       "Wednesday    2013.407792    34.974026  0.389610  \n",
       "Monday       2013.462295    34.868852  0.363934  \n",
       "Tuesday      2013.558442    35.961039  0.355844  \n",
       "Saturday     2013.278481    35.212025  0.335443  \n",
       "Thursday     2013.432507    35.426997  0.325069  \n",
       "Friday       2013.395402    35.508046  0.291954  \n",
       "Sunday       2013.237226    35.711679  0.281022  "
      ]
     },
     "metadata": {},
     "output_type": "display_data"
    }
   ],
   "source": [
    "# Day of Week\n",
    "(df.groupby('Day of Week').mean()).sort_values(by=['severity'], ascending=False)\n"
   ]
  },
  {
   "cell_type": "code",
   "execution_count": 29,
   "id": "e8817df4",
   "metadata": {},
   "outputs": [
    {
     "data": {
      "application/vnd.jupyter.widget-view+json": {
       "model_id": "bd8ff34641ec4384b308daba1ca7f4cf"
      },
      "text/plain": [
       "                      At Intersection Flag   Crash Time  \\\n",
       "Intersection Related                                      \n",
       "Non Intersection                  0.043200  1327.931200   \n",
       "Intersection Related              0.699491  1419.213922   \n",
       "Intersection                      0.963176  1439.497123   \n",
       "Driveway Access                   0.047493  1428.601583   \n",
       "Not Reported                      0.000000  1541.000000   \n",
       "\n",
       "                      Crash Total Injury Count   Crash Year  Speed Limit  \\\n",
       "Intersection Related                                                       \n",
       "Non Intersection                      1.392000  2013.523200    35.432000   \n",
       "Intersection Related                  1.001698  2013.504244    35.419355   \n",
       "Intersection                          0.989643  2013.192175    34.903337   \n",
       "Driveway Access                       0.976253  2013.546174    36.358839   \n",
       "Not Reported                          0.000000  2010.000000    45.000000   \n",
       "\n",
       "                      severity  \n",
       "Intersection Related            \n",
       "Non Intersection      0.376000  \n",
       "Intersection Related  0.336163  \n",
       "Intersection          0.326812  \n",
       "Driveway Access       0.287599  \n",
       "Not Reported          0.000000  "
      ]
     },
     "metadata": {},
     "output_type": "display_data"
    }
   ],
   "source": [
    "# Intersection Related\n",
    "(df.groupby('Intersection Related').mean()).sort_values(by=['severity'], ascending=False)\n"
   ]
  },
  {
   "cell_type": "code",
   "execution_count": 30,
   "id": "8e4dab19",
   "metadata": {},
   "outputs": [
    {
     "data": {
      "application/vnd.jupyter.widget-view+json": {
       "model_id": "36faf36dc598404e956e2495014c7206"
      },
      "text/plain": [
       "                              At Intersection Flag   Crash Time  \\\n",
       "Roadway Part                                                      \n",
       "Service/Frontage Road                     0.459119  1424.012579   \n",
       "Main/Proper Lane                          0.560634  1403.595616   \n",
       "Other (Explain In Narrative)              0.111111  1399.313725   \n",
       "Entrance/On Ramp                          0.285714  1422.285714   \n",
       "\n",
       "                              Crash Total Injury Count   Crash Year  \\\n",
       "Roadway Part                                                          \n",
       "Service/Frontage Road                         0.962264  2013.345912   \n",
       "Main/Proper Lane                              1.111940  2013.436101   \n",
       "Other (Explain In Narrative)                  0.954248  2013.039216   \n",
       "Entrance/On Ramp                              1.000000  2012.857143   \n",
       "\n",
       "                              Speed Limit  severity  \n",
       "Roadway Part                                         \n",
       "Service/Frontage Road           41.823899  0.408805  \n",
       "Main/Proper Lane                35.083022  0.330690  \n",
       "Other (Explain In Narrative)    32.941176  0.326797  \n",
       "Entrance/On Ramp                36.428571  0.285714  "
      ]
     },
     "metadata": {},
     "output_type": "display_data"
    }
   ],
   "source": [
    "# Roadway Part\n",
    "(df.groupby('Roadway Part').mean()).sort_values(by=['severity'], ascending=False)\n"
   ]
  },
  {
   "cell_type": "code",
   "execution_count": 31,
   "id": "c5d3db71",
   "metadata": {},
   "outputs": [
    {
     "data": {
      "application/vnd.jupyter.widget-view+json": {
       "model_id": "f59577ba3df44c588ca5a51aaa91f708"
      },
      "text/plain": [
       "             At Intersection Flag   Crash Time  Crash Total Injury Count  \\\n",
       "Speed Limit                                                                \n",
       "10                       0.333333  1259.000000                  0.888889   \n",
       "55                       0.490909  1309.581818                  1.000000   \n",
       "60                       0.333333  1247.800000                  1.000000   \n",
       "45                       0.447368  1368.015789                  0.963158   \n",
       "40                       0.437838  1428.362162                  0.929730   \n",
       "50                       0.368421  1501.289474                  0.894737   \n",
       "35                       0.537700  1414.086824                  1.007616   \n",
       "5                        0.222222  1546.111111                  0.777778   \n",
       "25                       0.500000  1598.800000                  0.860000   \n",
       "30                       0.583333  1379.123264                  1.440972   \n",
       "65                       0.714286  1331.142857                  1.000000   \n",
       "15                       0.142857  1494.142857                  0.857143   \n",
       "20                       0.285714  1279.285714                  0.714286   \n",
       "32                       1.000000  1814.000000                  1.000000   \n",
       "36                       1.000000  1012.000000                  1.000000   \n",
       "\n",
       "              Crash Year  severity  \n",
       "Speed Limit                         \n",
       "10           2013.666667  0.444444  \n",
       "55           2013.654545  0.400000  \n",
       "60           2012.066667  0.400000  \n",
       "45           2013.405263  0.357895  \n",
       "40           2013.151351  0.356757  \n",
       "50           2013.447368  0.342105  \n",
       "35           2013.504189  0.336634  \n",
       "5            2015.111111  0.333333  \n",
       "25           2013.820000  0.320000  \n",
       "30           2013.177083  0.315972  \n",
       "65           2012.571429  0.285714  \n",
       "15           2015.428571  0.142857  \n",
       "20           2013.714286  0.142857  \n",
       "32           2015.000000  0.000000  \n",
       "36           2013.000000  0.000000  "
      ]
     },
     "metadata": {},
     "output_type": "display_data"
    }
   ],
   "source": [
    "# Speed Limit\n",
    "(df.groupby('Speed Limit').mean()).sort_values(by=['severity'], ascending=False)\n"
   ]
  },
  {
   "cell_type": "code",
   "execution_count": 32,
   "id": "c686ea15",
   "metadata": {},
   "outputs": [
    {
     "data": {
      "application/vnd.jupyter.widget-view+json": {
       "model_id": "43132fb9ef3e41dab481b27d6c5300e4"
      },
      "text/plain": [
       "                              At Intersection Flag   Crash Time  \\\n",
       "Surface Condition                                                 \n",
       "Other (Explain In Narrative)              0.000000   625.000000   \n",
       "Wet                                       0.480000  1314.846667   \n",
       "Dry                                       0.529029  1410.517764   \n",
       "Ice                                       0.000000  1936.000000   \n",
       "Sand, Mud, Dirt                           0.000000  1936.000000   \n",
       "Standing Water                            1.000000  1954.000000   \n",
       "\n",
       "                              Crash Total Injury Count   Crash Year  \\\n",
       "Surface Condition                                                     \n",
       "Other (Explain In Narrative)                    1.0000  2013.000000   \n",
       "Wet                                             2.5600  2013.393333   \n",
       "Dry                                             0.9974  2013.405113   \n",
       "Ice                                             1.0000  2011.000000   \n",
       "Sand, Mud, Dirt                                 1.0000  2013.000000   \n",
       "Standing Water                                  0.0000  2016.000000   \n",
       "\n",
       "                              Speed Limit  severity  \n",
       "Surface Condition                                    \n",
       "Other (Explain In Narrative)    35.000000  1.000000  \n",
       "Wet                             35.366667  0.453333  \n",
       "Dry                             35.391248  0.327556  \n",
       "Ice                             30.000000  0.000000  \n",
       "Sand, Mud, Dirt                 30.000000  0.000000  \n",
       "Standing Water                  45.000000  0.000000  "
      ]
     },
     "metadata": {},
     "output_type": "display_data"
    }
   ],
   "source": [
    "# Surface Condition\n",
    "(df.groupby('Surface Condition').mean()).sort_values(by=['severity'], ascending=False)\n"
   ]
  },
  {
   "cell_type": "code",
   "execution_count": 33,
   "id": "e8ad9ad9",
   "metadata": {},
   "outputs": [
    {
     "data": {
      "application/vnd.jupyter.widget-view+json": {
       "model_id": "a871fb3004804b5789d4088458c2bce4"
      },
      "text/plain": [
       "                                            At Intersection Flag   Crash Time  \\\n",
       "Traffic Control Type                                                            \n",
       "Flagman                                                 1.000000   854.000000   \n",
       "Officer                                                 0.666667   795.000000   \n",
       "Signal Light With Red Light Running Camera              0.769231  1314.576923   \n",
       "Yield Sign                                              0.655172  1331.172414   \n",
       "None                                                    0.168614  1413.131886   \n",
       "Other (Explain In Narrative)                            0.290323  1363.225806   \n",
       "Flashing Red Light                                      0.750000  1151.750000   \n",
       "No Passing Zone                                         0.333333  1869.666667   \n",
       "Warning Sign                                            0.333333  1135.000000   \n",
       "Signal Light                                            0.847756  1407.400641   \n",
       "Marked Lanes                                            0.311005  1354.787081   \n",
       "Center Stripe/Divider                                   0.330435  1380.939130   \n",
       "Stop Sign                                               0.841432  1450.774936   \n",
       "Bike Lane                                               0.397351  1457.284768   \n",
       "Crosswalk                                               0.803571  1452.910714   \n",
       "Flashing Yellow Light                                   0.000000   202.000000   \n",
       "\n",
       "                                            Crash Total Injury Count  \\\n",
       "Traffic Control Type                                                   \n",
       "Flagman                                                     1.000000   \n",
       "Officer                                                     0.666667   \n",
       "Signal Light With Red Light Running Camera                  1.192308   \n",
       "Yield Sign                                                  1.068966   \n",
       "None                                                        1.378965   \n",
       "Other (Explain In Narrative)                                0.903226   \n",
       "Flashing Red Light                                          0.833333   \n",
       "No Passing Zone                                             0.666667   \n",
       "Warning Sign                                                1.000000   \n",
       "Signal Light                                                0.990385   \n",
       "Marked Lanes                                                1.038278   \n",
       "Center Stripe/Divider                                       1.034783   \n",
       "Stop Sign                                                   0.964194   \n",
       "Bike Lane                                                   1.033113   \n",
       "Crosswalk                                                   0.910714   \n",
       "Flashing Yellow Light                                       1.000000   \n",
       "\n",
       "                                             Crash Year  Speed Limit  severity  \n",
       "Traffic Control Type                                                            \n",
       "Flagman                                     2010.000000    55.000000  1.000000  \n",
       "Officer                                     2011.333333    38.333333  0.666667  \n",
       "Signal Light With Red Light Running Camera  2014.230769    36.730769  0.538462  \n",
       "Yield Sign                                  2013.206897    38.448276  0.517241  \n",
       "None                                        2013.128548    34.983306  0.365609  \n",
       "Other (Explain In Narrative)                2013.290323    31.612903  0.354839  \n",
       "Flashing Red Light                          2013.000000    33.333333  0.333333  \n",
       "No Passing Zone                             2015.666667    38.333333  0.333333  \n",
       "Warning Sign                                2013.666667    38.333333  0.333333  \n",
       "Signal Light                                2013.091346    35.504808  0.328526  \n",
       "Marked Lanes                                2014.069378    36.679426  0.327751  \n",
       "Center Stripe/Divider                       2013.539130    35.000000  0.313043  \n",
       "Stop Sign                                   2013.081841    34.478261  0.309463  \n",
       "Bike Lane                                   2014.304636    35.231788  0.291391  \n",
       "Crosswalk                                   2014.339286    35.892857  0.267857  \n",
       "Flashing Yellow Light                       2012.000000    35.000000  0.000000  "
      ]
     },
     "metadata": {},
     "output_type": "display_data"
    }
   ],
   "source": [
    "# Traffic Control Type\n",
    "(df.groupby('Traffic Control Type').mean()).sort_values(by=['severity'], ascending=False)\n"
   ]
  },
  {
   "cell_type": "code",
   "execution_count": 34,
   "id": "e1c92bfd",
   "metadata": {},
   "outputs": [
    {
     "data": {
      "application/vnd.jupyter.widget-view+json": {
       "model_id": "3f9eb542dc26457193d03dce1f4980fb"
      },
      "text/plain": [
       "                   At Intersection Flag   Crash Time  \\\n",
       "Person Helmet                                          \n",
       "Worn, Unk Damage               0.526316  1429.362573   \n",
       "Worn, Not Damaged              0.601173  1379.222874   \n",
       "Unknown If Worn                0.511211  1439.914798   \n",
       "Worn, Damaged                  0.583893  1344.355705   \n",
       "Not Worn                       0.504425  1403.046460   \n",
       "\n",
       "                   Crash Total Injury Count   Crash Year  Speed Limit  \\\n",
       "Person Helmet                                                           \n",
       "Worn, Unk Damage                   0.988304  2013.888889    35.877193   \n",
       "Worn, Not Damaged                  0.950147  2013.633431    35.897361   \n",
       "Unknown If Worn                    1.466368  2013.513453    35.168161   \n",
       "Worn, Damaged                      1.046980  2013.516779    35.704698   \n",
       "Not Worn                           1.022861  2013.236726    35.237463   \n",
       "\n",
       "                   severity  \n",
       "Person Helmet                \n",
       "Worn, Unk Damage   0.385965  \n",
       "Worn, Not Damaged  0.343109  \n",
       "Unknown If Worn    0.340807  \n",
       "Worn, Damaged      0.328859  \n",
       "Not Worn           0.325959  "
      ]
     },
     "metadata": {},
     "output_type": "display_data"
    }
   ],
   "source": [
    "# Person Helmet\n",
    "(df.groupby('Person Helmet').mean()).sort_values(by=['severity'], ascending=False)\n"
   ]
  },
  {
   "cell_type": "markdown",
   "id": "920969e4",
   "metadata": {},
   "source": [
    "# Outlier"
   ]
  },
  {
   "cell_type": "code",
   "execution_count": 35,
   "id": "d26e97f1",
   "metadata": {},
   "outputs": [
    {
     "data": {
      "text/plain": [
       "Index(['$1000 Damage to Any One Person's Property', 'Active School Zone Flag',\n",
       "       'At Intersection Flag', 'Construction Zone Flag', 'Crash Time',\n",
       "       'Crash Total Injury Count', 'Crash Year', 'Day of Week',\n",
       "       'Intersection Related', 'Roadway Part', 'Speed Limit',\n",
       "       'Surface Condition', 'Traffic Control Type', 'Person Helmet',\n",
       "       'severity'],\n",
       "      dtype='object')"
      ]
     },
     "execution_count": 35,
     "metadata": {},
     "output_type": "execute_result"
    }
   ],
   "source": [
    "df.columns"
   ]
  },
  {
   "cell_type": "code",
   "execution_count": 36,
   "id": "992b8ae0",
   "metadata": {},
   "outputs": [
    {
     "data": {
      "text/plain": [
       "$1000 Damage to Any One Person's Property    object\n",
       "Active School Zone Flag                      object\n",
       "At Intersection Flag                           bool\n",
       "Construction Zone Flag                       object\n",
       "Crash Time                                    int64\n",
       "Crash Total Injury Count                      int64\n",
       "Crash Year                                    int64\n",
       "Day of Week                                  object\n",
       "Intersection Related                         object\n",
       "Roadway Part                                 object\n",
       "Speed Limit                                   int64\n",
       "Surface Condition                            object\n",
       "Traffic Control Type                         object\n",
       "Person Helmet                                object\n",
       "severity                                      int64\n",
       "dtype: object"
      ]
     },
     "execution_count": 36,
     "metadata": {},
     "output_type": "execute_result"
    }
   ],
   "source": [
    "df.dtypes"
   ]
  },
  {
   "cell_type": "code",
   "execution_count": 37,
   "id": "c8f4a042",
   "metadata": {},
   "outputs": [
    {
     "data": {
      "image/png": "[encoded data removed]",
      "text/plain": [
       "<Figure size 432x288 with 5 Axes>"
      ]
     },
     "metadata": {
      "needs_background": "light"
     },
     "output_type": "display_data"
    }
   ],
   "source": [
    "df_describe = df.drop(columns = ['$1000 Damage to Any One Person\\'s Property', 'Active School Zone Flag',\n",
    "       'At Intersection Flag', 'Construction Zone Flag', 'Day of Week',\n",
    "       'Intersection Related', 'Roadway Part','Surface Condition', 'Traffic Control Type', 'Person Helmet'])\n",
    "x=1\n",
    "  \n",
    "\n",
    "for column in df_describe.columns:\n",
    "    plt.subplot(4,5,x)\n",
    "    sns.boxplot(df_describe[column])\n",
    "    x+=1\n",
    "plt.tight_layout\n",
    "plt.show()"
   ]
  },
  {
   "cell_type": "code",
   "execution_count": 38,
   "id": "06678ef7",
   "metadata": {},
   "outputs": [
    {
     "data": {
      "text/plain": [
       "<AxesSubplot:>"
      ]
     },
     "execution_count": 38,
     "metadata": {},
     "output_type": "execute_result"
    },
    {
     "data": {
      "image/png": "[encoded data removed]",
      "text/plain": [
       "<Figure size 720x360 with 1 Axes>"
      ]
     },
     "metadata": {
      "needs_background": "light"
     },
     "output_type": "display_data"
    }
   ],
   "source": [
    "df['Traffic Control Type'].value_counts().plot(kind='bar',figsize=(10,5))"
   ]
  },
  {
   "cell_type": "markdown",
   "id": "e8db22b3",
   "metadata": {},
   "source": [
    "## Correlation Analysis"
   ]
  },
  {
   "cell_type": "code",
   "execution_count": 39,
   "id": "15ddbbf2",
   "metadata": {},
   "outputs": [
    {
     "data": {
      "image/png": "[encoded data removed]",
      "text/plain": [
       "<Figure size 432x288 with 2 Axes>"
      ]
     },
     "metadata": {
      "needs_background": "light"
     },
     "output_type": "display_data"
    }
   ],
   "source": [
    "corr_df = df.corr()\n",
    "sns.heatmap(df.corr(),cmap='BuPu',annot=True)\n",
    "plt.show()"
   ]
  },
  {
   "cell_type": "code",
   "execution_count": 40,
   "id": "f978bea1",
   "metadata": {},
   "outputs": [
    {
     "data": {
      "text/plain": [
       "Index(['$1000 Damage to Any One Person's Property', 'Active School Zone Flag',\n",
       "       'At Intersection Flag', 'Construction Zone Flag', 'Crash Time',\n",
       "       'Crash Total Injury Count', 'Crash Year', 'Day of Week',\n",
       "       'Intersection Related', 'Roadway Part', 'Speed Limit',\n",
       "       'Surface Condition', 'Traffic Control Type', 'Person Helmet',\n",
       "       'severity'],\n",
       "      dtype='object')"
      ]
     },
     "execution_count": 40,
     "metadata": {},
     "output_type": "execute_result"
    }
   ],
   "source": [
    "df.columns"
   ]
  },
  {
   "cell_type": "code",
   "execution_count": 41,
   "id": "ab323ed6",
   "metadata": {},
   "outputs": [
    {
     "data": {
      "application/vnd.jupyter.widget-view+json": {
       "model_id": "d10e3fa340304505ad02a09a5bee9885"
      },
      "text/plain": [
       "  $1000 Damage to Any One Person's Property Active School Zone Flag  \\\n",
       "0                                        No                      No   \n",
       "1                                        No                      No   \n",
       "2                                        No                      No   \n",
       "3                                        No                      No   \n",
       "4                                        No                      No   \n",
       "\n",
       "   At Intersection Flag Construction Zone Flag  Crash Time  \\\n",
       "0                 False                     No         239   \n",
       "1                 False                     No         310   \n",
       "2                 False                     No         310   \n",
       "3                 False                     No         310   \n",
       "4                 False                     No        2300   \n",
       "\n",
       "   Crash Total Injury Count  Crash Year Day of Week  Intersection Related  \\\n",
       "0                         1        2010      Friday      Non Intersection   \n",
       "1                         2        2010      Friday      Non Intersection   \n",
       "2                         2        2010      Friday      Non Intersection   \n",
       "3                         2        2010      Friday      Non Intersection   \n",
       "4                         1        2010      Monday  Intersection Related   \n",
       "\n",
       "       Roadway Part  Speed Limit Surface Condition   Traffic Control Type  \\\n",
       "0  Main/Proper Lane           45               Dry           Marked Lanes   \n",
       "1  Main/Proper Lane           35               Dry  Center Stripe/Divider   \n",
       "2  Main/Proper Lane           35               Dry  Center Stripe/Divider   \n",
       "3  Main/Proper Lane           35               Dry  Center Stripe/Divider   \n",
       "4  Main/Proper Lane           45               Dry                   None   \n",
       "\n",
       "   Person Helmet  severity  \n",
       "0  Worn, Damaged         1  \n",
       "1       Not Worn         0  \n",
       "2       Not Worn         0  \n",
       "3       Not Worn         0  \n",
       "4       Not Worn         0  "
      ]
     },
     "metadata": {},
     "output_type": "display_data"
    }
   ],
   "source": [
    "df.head()"
   ]
  },
  {
   "cell_type": "code",
   "execution_count": 42,
   "id": "9031c6b3",
   "metadata": {},
   "outputs": [
    {
     "name": "stdout",
     "output_type": "stream",
     "text": [
      "<class 'pandas.core.frame.DataFrame'>\n",
      "RangeIndex: 2463 entries, 0 to 2462\n",
      "Data columns (total 28 columns):\n",
      " #   Column                                          Non-Null Count  Dtype\n",
      "---  ------                                          --------------  -----\n",
      " 0   Crash Time                                      2463 non-null   int64\n",
      " 1   Crash Total Injury Count                        2463 non-null   int64\n",
      " 2   Crash Year                                      2463 non-null   int64\n",
      " 3   Speed Limit                                     2463 non-null   int64\n",
      " 4   severity                                        2463 non-null   int64\n",
      " 5   $1000 Damage to Any One Person's Property_No    2463 non-null   uint8\n",
      " 6   $1000 Damage to Any One Person's Property_Yes   2463 non-null   uint8\n",
      " 7   Active School Zone Flag_No                      2463 non-null   uint8\n",
      " 8   Active School Zone Flag_Yes                     2463 non-null   uint8\n",
      " 9   At Intersection Flag_False                      2463 non-null   uint8\n",
      " 10  At Intersection Flag_True                       2463 non-null   uint8\n",
      " 11  Construction Zone Flag_No                       2463 non-null   uint8\n",
      " 12  Construction Zone Flag_Yes                      2463 non-null   uint8\n",
      " 13  Intersection Related_Driveway Access            2463 non-null   uint8\n",
      " 14  Intersection Related_Intersection               2463 non-null   uint8\n",
      " 15  Intersection Related_Intersection Related       2463 non-null   uint8\n",
      " 16  Intersection Related_Non Intersection           2463 non-null   uint8\n",
      " 17  Intersection Related_Not Reported               2463 non-null   uint8\n",
      " 18  Roadway Part_Entrance/On Ramp                   2463 non-null   uint8\n",
      " 19  Roadway Part_Main/Proper Lane                   2463 non-null   uint8\n",
      " 20  Roadway Part_Other (Explain In Narrative)       2463 non-null   uint8\n",
      " 21  Roadway Part_Service/Frontage Road              2463 non-null   uint8\n",
      " 22  Surface Condition_Dry                           2463 non-null   uint8\n",
      " 23  Surface Condition_Ice                           2463 non-null   uint8\n",
      " 24  Surface Condition_Other (Explain In Narrative)  2463 non-null   uint8\n",
      " 25  Surface Condition_Sand, Mud, Dirt               2463 non-null   uint8\n",
      " 26  Surface Condition_Standing Water                2463 non-null   uint8\n",
      " 27  Surface Condition_Wet                           2463 non-null   uint8\n",
      "dtypes: int64(5), uint8(23)\n",
      "memory usage: 151.7 KB\n"
     ]
    }
   ],
   "source": [
    "# Creating dummy variables for categorical analysis \n",
    "bikeCrash_wDummmy = df.copy()\n",
    "bikeCrash_wDummmy=pd.get_dummies(bikeCrash_wDummmy,columns=['$1000 Damage to Any One Person\\'s Property',\n",
    "                                                  'Active School Zone Flag', \n",
    "                                                  'At Intersection Flag', \n",
    "                                                  'Construction Zone Flag', \n",
    "                                                  'Intersection Related',\n",
    "                                                  'Roadway Part',\n",
    "                                                  'Surface Condition'\n",
    "                                                  ])\n",
    "# Dropping Traffic Control Type and Day of Week as it has a lot of categorical variables\n",
    "bikeCrash_wDummmy =bikeCrash_wDummmy.drop(['Traffic Control Type','Day of Week', 'Person Helmet'],axis=1)\n",
    "\n",
    "bikeCrash_wDummmy.info()"
   ]
  },
  {
   "cell_type": "code",
   "execution_count": 43,
   "id": "0aff43d9",
   "metadata": {},
   "outputs": [
    {
     "data": {
      "application/vnd.jupyter.widget-view+json": {
       "model_id": "dd34fe8b2ab649ccb498052bc2e9a52a"
      },
      "text/plain": [
       "   Crash Time  Crash Total Injury Count  Crash Year  Speed Limit  severity  \\\n",
       "0         239                         1        2010           45         1   \n",
       "1         310                         2        2010           35         0   \n",
       "2         310                         2        2010           35         0   \n",
       "3         310                         2        2010           35         0   \n",
       "4        2300                         1        2010           45         0   \n",
       "\n",
       "   $1000 Damage to Any One Person's Property_No  \\\n",
       "0                                             1   \n",
       "1                                             1   \n",
       "2                                             1   \n",
       "3                                             1   \n",
       "4                                             1   \n",
       "\n",
       "   $1000 Damage to Any One Person's Property_Yes  Active School Zone Flag_No  \\\n",
       "0                                              0                           1   \n",
       "1                                              0                           1   \n",
       "2                                              0                           1   \n",
       "3                                              0                           1   \n",
       "4                                              0                           1   \n",
       "\n",
       "   Active School Zone Flag_Yes  At Intersection Flag_False  ...  \\\n",
       "0                            0                           1  ...   \n",
       "1                            0                           1  ...   \n",
       "2                            0                           1  ...   \n",
       "3                            0                           1  ...   \n",
       "4                            0                           1  ...   \n",
       "\n",
       "   Roadway Part_Entrance/On Ramp  Roadway Part_Main/Proper Lane  \\\n",
       "0                              0                              1   \n",
       "1                              0                              1   \n",
       "2                              0                              1   \n",
       "3                              0                              1   \n",
       "4                              0                              1   \n",
       "\n",
       "   Roadway Part_Other (Explain In Narrative)  \\\n",
       "0                                          0   \n",
       "1                                          0   \n",
       "2                                          0   \n",
       "3                                          0   \n",
       "4                                          0   \n",
       "\n",
       "   Roadway Part_Service/Frontage Road  Surface Condition_Dry  \\\n",
       "0                                   0                      1   \n",
       "1                                   0                      1   \n",
       "2                                   0                      1   \n",
       "3                                   0                      1   \n",
       "4                                   0                      1   \n",
       "\n",
       "   Surface Condition_Ice  Surface Condition_Other (Explain In Narrative)  \\\n",
       "0                      0                                               0   \n",
       "1                      0                                               0   \n",
       "2                      0                                               0   \n",
       "3                      0                                               0   \n",
       "4                      0                                               0   \n",
       "\n",
       "   Surface Condition_Sand, Mud, Dirt  Surface Condition_Standing Water  \\\n",
       "0                                  0                                 0   \n",
       "1                                  0                                 0   \n",
       "2                                  0                                 0   \n",
       "3                                  0                                 0   \n",
       "4                                  0                                 0   \n",
       "\n",
       "   Surface Condition_Wet  \n",
       "0                      0  \n",
       "1                      0  \n",
       "2                      0  \n",
       "3                      0  \n",
       "4                      0  \n",
       "\n",
       "[5 rows x 28 columns]"
      ]
     },
     "metadata": {},
     "output_type": "display_data"
    }
   ],
   "source": [
    "bikeCrash_wDummmy.head()"
   ]
  },
  {
   "cell_type": "markdown",
   "id": "910ebcba",
   "metadata": {},
   "source": [
    "## Multicolinearity "
   ]
  },
  {
   "cell_type": "code",
   "execution_count": 44,
   "id": "ea03583a",
   "metadata": {},
   "outputs": [],
   "source": [
    "from statsmodels.stats.outliers_influence import variance_inflation_factor\n",
    "\n",
    "def calc_vif(X):\n",
    "\n",
    "    vif = pd.DataFrame()\n",
    "    vif[\"variables\"] = X.columns\n",
    "    vif[\"VIF\"] = [variance_inflation_factor(X.values, i) for i in range(X.shape[1])]\n",
    "\n",
    "    return(vif)"
   ]
  },
  {
   "cell_type": "code",
   "execution_count": 45,
   "id": "afac8ed8",
   "metadata": {},
   "outputs": [
    {
     "data": {
      "application/vnd.jupyter.widget-view+json": {
       "model_id": "8452f33237c248b89fd1b86ae46c272b"
      },
      "text/plain": [
       "                  variables        VIF\n",
       "0                Crash Time   7.325432\n",
       "1  Crash Total Injury Count   1.865175\n",
       "2                Crash Year  38.436360\n",
       "3               Speed Limit  30.026236\n",
       "4                  severity   1.539147"
      ]
     },
     "metadata": {},
     "output_type": "display_data"
    }
   ],
   "source": [
    "calc_vif(df_describe)"
   ]
  },
  {
   "cell_type": "markdown",
   "id": "328484a0",
   "metadata": {},
   "source": [
    "## 1) Logistic Regression Model"
   ]
  },
  {
   "cell_type": "markdown",
   "id": "5169a24e",
   "metadata": {},
   "source": [
    "Split dataset into training and testing data "
   ]
  },
  {
   "cell_type": "code",
   "execution_count": 46,
   "id": "a96dc5cc",
   "metadata": {},
   "outputs": [],
   "source": [
    "# 70/30 division of training and test dataset\n",
    "X_train, X_test, y_train, y_test = train_test_split(bikeCrash_wDummmy.drop('severity',axis=1), \n",
    "                                                    bikeCrash_wDummmy['severity'], test_size=0.30, \n",
    "                                                    random_state=100)"
   ]
  },
  {
   "cell_type": "code",
   "execution_count": 47,
   "id": "cfda498b",
   "metadata": {},
   "outputs": [
    {
     "name": "stdout",
     "output_type": "stream",
     "text": [
      "Accuracy of logistic regression classifier on test set: 0.66\n"
     ]
    }
   ],
   "source": [
    "logit_model1 = LogisticRegression(max_iter=3000)\n",
    "logit_model1.fit(X_train,y_train)\n",
    "y_pred = logit_model1.predict(X_test)\n",
    "print('Accuracy of logistic regression classifier on test set: {:.2f}'.format(logit_model1.score(X_test, y_test)))"
   ]
  },
  {
   "cell_type": "code",
   "execution_count": 48,
   "id": "5f7aadfb",
   "metadata": {},
   "outputs": [
    {
     "name": "stdout",
     "output_type": "stream",
     "text": [
      "Warning: Maximum number of iterations has been exceeded.\n",
      "         Current function value: 0.612518\n",
      "         Iterations: 35\n",
      "                                                 Results: Logit\n",
      "================================================================================================================\n",
      "Model:                               Logit                           Pseudo R-squared:                0.037     \n",
      "Dependent Variable:                  severity                        AIC:                             2153.9614 \n",
      "Date:                                2023-01-29 23:46                BIC:                             2268.4619 \n",
      "No. Observations:                    1724                            Log-Likelihood:                  -1056.0   \n",
      "Df Model:                            20                              LL-Null:                         -1096.2   \n",
      "Df Residuals:                        1703                            LLR p-value:                     3.3290e-09\n",
      "Converged:                           0.0000                          Scale:                           1.0000    \n",
      "No. Iterations:                      35.0000                                                                    \n",
      "----------------------------------------------------------------------------------------------------------------\n",
      "                                                Coef.     Std.Err.      z    P>|z|      [0.025         0.975]   \n",
      "----------------------------------------------------------------------------------------------------------------\n",
      "Crash Time                                       0.0002       0.0001  1.6012 0.1093        -0.0000        0.0003\n",
      "Crash Total Injury Count                         0.4610       0.1160  3.9751 0.0001         0.2337        0.6883\n",
      "Crash Year                                       0.0895       0.0240  3.7247 0.0002         0.0424        0.1366\n",
      "Speed Limit                                      0.0098       0.0082  1.2020 0.2293        -0.0062        0.0259\n",
      "$1000 Damage to Any One Person's Property_No   -36.7305 1174838.8629 -0.0000 1.0000  -2302678.5894  2302605.1284\n",
      "$1000 Damage to Any One Person's Property_Yes  -36.5017 1455676.1639 -0.0000 1.0000  -2853109.3560  2853036.3526\n",
      "Active School Zone Flag_No                     -36.8387          nan     nan    nan            nan           nan\n",
      "Active School Zone Flag_Yes                    -36.3935          nan     nan    nan            nan           nan\n",
      "At Intersection Flag_False                     -36.4422 2538577.3855 -0.0000 1.0000  -4975556.6897  4975483.8053\n",
      "At Intersection Flag_True                      -36.7900 2533278.7037 -0.0000 1.0000  -4965171.8120  4965098.2319\n",
      "Construction Zone Flag_No                      -36.5774 2927502.1138 -0.0000 1.0000  -5737835.2850  5737762.1303\n",
      "Construction Zone Flag_Yes                     -36.6549 2926635.0623 -0.0000 1.0000  -5736135.9729  5736062.6631\n",
      "Intersection Related_Driveway Access           -10.0213          nan     nan    nan            nan           nan\n",
      "Intersection Related_Intersection               -9.3839          nan     nan    nan            nan           nan\n",
      "Intersection Related_Intersection Related       -9.5072          nan     nan    nan            nan           nan\n",
      "Intersection Related_Non Intersection           -9.7466          nan     nan    nan            nan           nan\n",
      "Intersection Related_Not Reported              -34.5733          nan     nan    nan            nan           nan\n",
      "Roadway Part_Entrance/On Ramp                  -18.2481 1624479.3038 -0.0000 1.0000  -3183939.1772  3183902.6809\n",
      "Roadway Part_Main/Proper Lane                  -18.5682 1626002.8234 -0.0000 1.0000  -3186925.5409  3186888.4044\n",
      "Roadway Part_Other (Explain In Narrative)      -18.3708 1625135.8613 -0.0000 1.0000  -3185226.1290  3185189.3874\n",
      "Roadway Part_Service/Frontage Road             -18.0451 1626532.6789 -0.0000 1.0000  -3187963.5154  3187927.4253\n",
      "Surface Condition_Dry                           -7.1333 5570109.3511 -0.0000 1.0000 -10917220.8514 10917206.5848\n",
      "Surface Condition_Ice                          -24.3205 5570116.9524 -0.0000 1.0000 -10917252.9369 10917204.2959\n",
      "Surface Condition_Other (Explain In Narrative)  13.0616 5570143.5380  0.0000 1.0000 -10917267.6615 10917293.7848\n",
      "Surface Condition_Sand, Mud, Dirt              -24.3157 5570114.1060 -0.0000 1.0000 -10917247.3532 10917198.7219\n",
      "Surface Condition_Standing Water               -23.7567 5570112.9019 -0.0000 1.0000 -10917244.4342 10917196.9209\n",
      "Surface Condition_Wet                           -6.7676 5570109.3511 -0.0000 1.0000 -10917220.4857 10917206.9505\n",
      "================================================================================================================\n",
      "\n"
     ]
    }
   ],
   "source": [
    "logit_model_summary=sm.Logit(y_train,X_train)\n",
    "result=logit_model_summary.fit()\n",
    "print(result.summary2())"
   ]
  },
  {
   "cell_type": "code",
   "execution_count": 49,
   "id": "578839c7",
   "metadata": {},
   "outputs": [],
   "source": [
    "bikeCrash_wDummmy1 =bikeCrash_wDummmy.drop(['$1000 Damage to Any One Person\\'s Property_No', \n",
    "                                                        'At Intersection Flag_True',\n",
    "                                                        'Active School Zone Flag_Yes',\n",
    "                                                        'Intersection Related_Not Reported',\n",
    "                                                        'Intersection Related_Driveway Access',\n",
    "                                                        'Roadway Part_Main/Proper Lane',\n",
    "                                                        'Surface Condition_Dry',\n",
    "                                                        'Construction Zone Flag_Yes'\n",
    "                                                        ],axis=1)\n"
   ]
  },
  {
   "cell_type": "code",
   "execution_count": 50,
   "id": "41d42177",
   "metadata": {},
   "outputs": [
    {
     "data": {
      "application/vnd.jupyter.widget-view+json": {
       "model_id": "1f0a39e6bcdb486b9a587873081982a4"
      },
      "text/plain": [
       "                                         variables         VIF\n",
       "0                                       Crash Time    7.494397\n",
       "1                         Crash Total Injury Count    2.154057\n",
       "2                                       Crash Year  947.464569\n",
       "3                                      Speed Limit   32.726298\n",
       "4                                         severity    1.552146\n",
       "5    $1000 Damage to Any One Person's Property_Yes    1.493531\n",
       "6                       Active School Zone Flag_No  828.930813\n",
       "7                       At Intersection Flag_False    5.988679\n",
       "8                        Construction Zone Flag_No   82.322663\n",
       "9                Intersection Related_Intersection    7.162943\n",
       "10       Intersection Related_Intersection Related    3.932240\n",
       "11           Intersection Related_Non Intersection    2.733674\n",
       "12                   Roadway Part_Entrance/On Ramp    1.007936\n",
       "13       Roadway Part_Other (Explain In Narrative)    1.172574\n",
       "14              Roadway Part_Service/Frontage Road    1.153765\n",
       "15                           Surface Condition_Ice    1.005102\n",
       "16  Surface Condition_Other (Explain In Narrative)    1.008378\n",
       "17               Surface Condition_Sand, Mud, Dirt    1.005294\n",
       "18                Surface Condition_Standing Water    1.003172\n",
       "19                           Surface Condition_Wet    1.184401"
      ]
     },
     "metadata": {},
     "output_type": "display_data"
    }
   ],
   "source": [
    "calc_vif(bikeCrash_wDummmy1)"
   ]
  },
  {
   "cell_type": "code",
   "execution_count": 51,
   "id": "34368b05",
   "metadata": {},
   "outputs": [],
   "source": [
    "bikeCrash_wDummmy1 =bikeCrash_wDummmy1.drop(['Crash Year', \n",
    "                                                        'Active School Zone Flag_No',\n",
    "                                                        'Construction Zone Flag_No'\n",
    "                                                        ],axis=1)\n"
   ]
  },
  {
   "cell_type": "code",
   "execution_count": 52,
   "id": "fe5358b6",
   "metadata": {},
   "outputs": [
    {
     "data": {
      "application/vnd.jupyter.widget-view+json": {
       "model_id": "e580e9ea1f6d441dab69888f17ed7d73"
      },
      "text/plain": [
       "                                         variables        VIF\n",
       "0                                       Crash Time   6.423730\n",
       "1                         Crash Total Injury Count   2.124480\n",
       "2                                      Speed Limit  14.568336\n",
       "3                                         severity   1.551479\n",
       "4    $1000 Damage to Any One Person's Property_Yes   1.488949\n",
       "5                       At Intersection Flag_False   4.731365\n",
       "6                Intersection Related_Intersection   4.882367\n",
       "7        Intersection Related_Intersection Related   2.892988\n",
       "8            Intersection Related_Non Intersection   2.503655\n",
       "9                    Roadway Part_Entrance/On Ramp   1.007556\n",
       "10       Roadway Part_Other (Explain In Narrative)   1.146740\n",
       "11              Roadway Part_Service/Frontage Road   1.132026\n",
       "12                           Surface Condition_Ice   1.004561\n",
       "13  Surface Condition_Other (Explain In Narrative)   1.008329\n",
       "14               Surface Condition_Sand, Mud, Dirt   1.005004\n",
       "15                Surface Condition_Standing Water   1.002429\n",
       "16                           Surface Condition_Wet   1.183982"
      ]
     },
     "metadata": {},
     "output_type": "display_data"
    }
   ],
   "source": [
    "calc_vif(bikeCrash_wDummmy1)"
   ]
  },
  {
   "cell_type": "code",
   "execution_count": 53,
   "id": "eefd72a6",
   "metadata": {},
   "outputs": [
    {
     "name": "stdout",
     "output_type": "stream",
     "text": [
      "Warning: Maximum number of iterations has been exceeded.\n",
      "         Current function value: 0.625595\n",
      "         Iterations: 35\n",
      "                                             Results: Logit\n",
      "========================================================================================================\n",
      "Model:                            Logit                         Pseudo R-squared:              0.016    \n",
      "Dependent Variable:               severity                      AIC:                           2189.0514\n",
      "Date:                             2023-01-29 23:47              BIC:                           2276.2898\n",
      "No. Observations:                 1724                          Log-Likelihood:                -1078.5  \n",
      "Df Model:                         15                            LL-Null:                       -1096.2  \n",
      "Df Residuals:                     1708                          LLR p-value:                   0.0022051\n",
      "Converged:                        0.0000                        Scale:                         1.0000   \n",
      "No. Iterations:                   35.0000                                                               \n",
      "--------------------------------------------------------------------------------------------------------\n",
      "                                                Coef.    Std.Err.     z    P>|z|     [0.025     0.975]  \n",
      "--------------------------------------------------------------------------------------------------------\n",
      "Crash Time                                      -0.0000     0.0001 -0.5534 0.5800     -0.0002     0.0001\n",
      "Crash Total Injury Count                         0.2837     0.0914  3.1039 0.0019      0.1046     0.4629\n",
      "Speed Limit                                     -0.0242     0.0057 -4.2462 0.0000     -0.0354    -0.0130\n",
      "$1000 Damage to Any One Person's Property_Yes    0.2265     0.1139  1.9881 0.0468      0.0032     0.4498\n",
      "At Intersection Flag_False                      -0.1972     0.1617 -1.2196 0.2226     -0.5141     0.1197\n",
      "Intersection Related_Intersection               -0.1857     0.1948 -0.9530 0.3406     -0.5675     0.1962\n",
      "Intersection Related_Intersection Related       -0.1113     0.1813 -0.6140 0.5392     -0.4666     0.2440\n",
      "Intersection Related_Non Intersection            0.0203     0.1594  0.1275 0.8986     -0.2921     0.3328\n",
      "Roadway Part_Entrance/On Ramp                    0.4524     0.9253  0.4889 0.6249     -1.3611     2.2658\n",
      "Roadway Part_Other (Explain In Narrative)       -0.0345     0.2169 -0.1590 0.8737     -0.4596     0.3906\n",
      "Roadway Part_Service/Frontage Road               0.6577     0.2016  3.2616 0.0011      0.2625     1.0529\n",
      "Surface Condition_Ice                          -19.1546 18572.7720 -0.0010 0.9992 -36421.1188 36382.8096\n",
      "Surface Condition_Other (Explain In Narrative)  20.2991 19315.8059  0.0011 0.9992 -37837.9847 37878.5830\n",
      "Surface Condition_Sand, Mud, Dirt              -18.7847 18277.5735 -0.0010 0.9992 -35842.1704 35804.6010\n",
      "Surface Condition_Standing Water               -18.1910 17658.0007 -0.0010 0.9992 -34627.2365 34590.8545\n",
      "Surface Condition_Wet                            0.3355     0.2153  1.5582 0.1192     -0.0865     0.7574\n",
      "========================================================================================================\n",
      "\n"
     ]
    }
   ],
   "source": [
    "X_train1, X_test1, y_train1, y_test1 = train_test_split(bikeCrash_wDummmy1.drop('severity',axis=1), \n",
    "                                                    bikeCrash_wDummmy1['severity'], test_size=0.30, \n",
    "                                                    random_state=100)\n",
    "\n",
    "logit_model_summary1=sm.Logit(y_train1,X_train1)\n",
    "result=logit_model_summary1.fit()\n",
    "print(result.summary2())"
   ]
  },
  {
   "cell_type": "code",
   "execution_count": 54,
   "id": "9e795b48",
   "metadata": {},
   "outputs": [
    {
     "name": "stdout",
     "output_type": "stream",
     "text": [
      "Accuracy of logistic regression classifier on test set: 0.66\n",
      "CPU times: total: 125 ms\n",
      "Wall time: 52.8 ms\n"
     ]
    }
   ],
   "source": [
    "%%time\n",
    "logit_model1_1 = LogisticRegression(max_iter=3000)\n",
    "logit_model1_1.fit(X_train1,y_train1)\n",
    "y_pred1 = logit_model1_1.predict(X_test1)\n",
    "print('Accuracy of logistic regression classifier on test set: {:.2f}'.format(logit_model1_1.score(X_test1, y_test1)))"
   ]
  },
  {
   "cell_type": "code",
   "execution_count": 55,
   "id": "7f96a345",
   "metadata": {},
   "outputs": [
    {
     "name": "stdout",
     "output_type": "stream",
     "text": [
      "              precision    recall  f1-score   support\n",
      "\n",
      "           0       0.66      0.98      0.79       486\n",
      "           1       0.54      0.05      0.09       253\n",
      "\n",
      "    accuracy                           0.66       739\n",
      "   macro avg       0.60      0.51      0.44       739\n",
      "weighted avg       0.62      0.66      0.55       739\n",
      "\n"
     ]
    }
   ],
   "source": [
    "print(classification_report(y_test1,y_pred1))"
   ]
  },
  {
   "cell_type": "code",
   "execution_count": 56,
   "id": "4f5daa5e",
   "metadata": {},
   "outputs": [
    {
     "data": {
      "text/plain": [
       "array([[475,  11],\n",
       "       [240,  13]], dtype=int64)"
      ]
     },
     "execution_count": 56,
     "metadata": {},
     "output_type": "execute_result"
    }
   ],
   "source": [
    "# Confusion matrix \n",
    "confusionMatrix = metrics.confusion_matrix(y_test1, y_pred1)\n",
    "confusionMatrix"
   ]
  },
  {
   "cell_type": "code",
   "execution_count": 57,
   "id": "279aa3cd",
   "metadata": {},
   "outputs": [
    {
     "data": {
      "text/plain": [
       "<AxesSubplot:>"
      ]
     },
     "execution_count": 57,
     "metadata": {},
     "output_type": "execute_result"
    },
    {
     "data": {
      "image/png": "[encoded data removed]",
      "text/plain": [
       "<Figure size 504x360 with 2 Axes>"
      ]
     },
     "metadata": {
      "needs_background": "light"
     },
     "output_type": "display_data"
    }
   ],
   "source": [
    "fig = plt.gcf()\n",
    "fig.set_size_inches(7, 5)\n",
    "group_names = ['True Neg','False Pos','False Neg','True Pos']\n",
    "group_counts = [\"{0:0.0f}\".format(value) for value in\n",
    "                confusionMatrix.flatten()]\n",
    "group_percentages = [\"{0:.2%}\".format(value) for value in\n",
    "                     confusionMatrix.flatten()/np.sum(confusionMatrix)]\n",
    "labels = [f\"{v1}\\n{v2}\\n{v3}\" for v1, v2, v3 in\n",
    "          zip(group_names,group_counts,group_percentages)]\n",
    "labels = np.asarray(labels).reshape(2,2)\n",
    "sns.heatmap(confusionMatrix, annot=labels, fmt='')"
   ]
  },
  {
   "cell_type": "code",
   "execution_count": 58,
   "id": "fc71bfab",
   "metadata": {},
   "outputs": [
    {
     "name": "stdout",
     "output_type": "stream",
     "text": [
      "Accuracy: 0.6603518267929634\n",
      "Precision: 0.5416666666666666\n",
      "Recall: 0.05138339920948617\n",
      "MSE: 0.33964817320703655\n"
     ]
    }
   ],
   "source": [
    "print(\"Accuracy:\",metrics.accuracy_score(y_test1, y_pred1))\n",
    "print(\"Precision:\",metrics.precision_score(y_test1, y_pred1))\n",
    "print(\"Recall:\",metrics.recall_score(y_test1, y_pred1))\n",
    "print('MSE:',mean_squared_error(y_test1, y_pred1))"
   ]
  },
  {
   "cell_type": "code",
   "execution_count": 59,
   "id": "f11258af",
   "metadata": {},
   "outputs": [],
   "source": [
    "#modelResults\n",
    "time1 = 103\n",
    "accuracy1 = 66.03\n",
    "precision1 = 54.17\n",
    "recall1 = 5.14\n",
    "mse1 = 33.96\n",
    "aic1 = 2189.0514\n",
    "falsepos1 = 1.49"
   ]
  },
  {
   "cell_type": "markdown",
   "id": "31c6044b",
   "metadata": {},
   "source": [
    "### Model 2 - Forward Logistic Regression Model using Sequencial Forward Selection (SFS)"
   ]
  },
  {
   "cell_type": "markdown",
   "id": "abcd2e48",
   "metadata": {},
   "source": [
    "## Identifying ideal number of features"
   ]
  },
  {
   "cell_type": "code",
   "execution_count": 60,
   "id": "0dbe68a7",
   "metadata": {},
   "outputs": [
    {
     "data": {
      "application/vnd.jupyter.widget-view+json": {
       "model_id": "5d86d612a593435ea96133ebd4c2a9b1"
      },
      "text/plain": [
       "                          feature_idx  \\\n",
       "1                                (1,)   \n",
       "2                              (1, 4)   \n",
       "3                           (1, 4, 5)   \n",
       "4                        (1, 3, 4, 5)   \n",
       "5                     (0, 1, 3, 4, 5)   \n",
       "6                 (0, 1, 3, 4, 5, 12)   \n",
       "7              (0, 1, 3, 4, 5, 6, 12)   \n",
       "8          (0, 1, 3, 4, 5, 6, 10, 12)   \n",
       "9      (0, 1, 3, 4, 5, 6, 10, 11, 12)   \n",
       "10  (0, 1, 3, 4, 5, 6, 9, 10, 11, 12)   \n",
       "\n",
       "                                            cv_scores avg_score  \\\n",
       "1   [-0.33043478260869563, -0.3391304347826087, -0... -0.328881   \n",
       "2   [-0.33043478260869563, -0.3391304347826087, -0... -0.328881   \n",
       "3   [-0.33043478260869563, -0.3391304347826087, -0... -0.328881   \n",
       "4   [-0.33043478260869563, -0.3391304347826087, -0... -0.328301   \n",
       "5   [-0.32753623188405795, -0.33043478260869563, -... -0.327722   \n",
       "6   [-0.32753623188405795, -0.32463768115942027, -... -0.325982   \n",
       "7   [-0.32463768115942027, -0.32753623188405795, -... -0.326562   \n",
       "8   [-0.32463768115942027, -0.33043478260869563, -... -0.326555   \n",
       "9   [-0.32753623188405795, -0.33043478260869563, -... -0.325976   \n",
       "10  [-0.32753623188405795, -0.33043478260869563, -... -0.328881   \n",
       "\n",
       "                                        feature_names  \n",
       "1                         (Crash Total Injury Count,)  \n",
       "2   (Crash Total Injury Count, At Intersection Fla...  \n",
       "3   (Crash Total Injury Count, At Intersection Fla...  \n",
       "4   (Crash Total Injury Count, $1000 Damage to Any...  \n",
       "5   (Crash Time, Crash Total Injury Count, $1000 D...  \n",
       "6   (Crash Time, Crash Total Injury Count, $1000 D...  \n",
       "7   (Crash Time, Crash Total Injury Count, $1000 D...  \n",
       "8   (Crash Time, Crash Total Injury Count, $1000 D...  \n",
       "9   (Crash Time, Crash Total Injury Count, $1000 D...  \n",
       "10  (Crash Time, Crash Total Injury Count, $1000 D...  "
      ]
     },
     "metadata": {},
     "output_type": "display_data"
    }
   ],
   "source": [
    "#Define Sequential Forward Selection (sfs)\n",
    "sfs = SFS(LogisticRegression(),\n",
    "           k_features=10,\n",
    "           forward=True,\n",
    "           floating=False,\n",
    "           scoring = 'neg_mean_squared_error',\n",
    "           cv = 5)\n",
    "#Use SFS to select the top 5 features \n",
    "sfs.fit(X_train1, y_train1)\n",
    "\n",
    "#Create a dataframe for the SFS results \n",
    "df_SFS_results = pd.DataFrame(sfs.subsets_).transpose()\n",
    "df_SFS_results"
   ]
  },
  {
   "cell_type": "code",
   "execution_count": 61,
   "id": "56616e08",
   "metadata": {},
   "outputs": [
    {
     "data": {
      "application/vnd.jupyter.widget-view+json": {
       "model_id": "c92ae1d2ba4e4c5c84c6d0366128c7c8"
      },
      "text/plain": [
       "                          feature_idx               cv_scores avg_score  \\\n",
       "1                                (1,)  [-0.48214391310083204] -0.482144   \n",
       "2                             (1, 15)  [-0.47952990267208273]  -0.47953   \n",
       "3                          (1, 2, 15)  [-0.47952990267208273]  -0.47953   \n",
       "4                       (0, 1, 2, 15)   [-0.4638458400995873] -0.463846   \n",
       "5                    (0, 1, 2, 8, 15)   [-0.4638458400995873] -0.463846   \n",
       "6                 (0, 1, 2, 3, 8, 15)    [-0.461231829670838] -0.461232   \n",
       "7             (0, 1, 2, 3, 8, 14, 15)  [-0.45861781924208866] -0.458618   \n",
       "8          (0, 1, 2, 3, 8, 9, 14, 15)   [-0.4560038088133396] -0.456004   \n",
       "9      (0, 1, 2, 3, 8, 9, 13, 14, 15)   [-0.4560038088133396] -0.456004   \n",
       "10  (0, 1, 2, 3, 7, 8, 9, 13, 14, 15)    [-0.461231829670838] -0.461232   \n",
       "\n",
       "                                        feature_names  \n",
       "1                         (Crash Total Injury Count,)  \n",
       "2   (Crash Total Injury Count, Surface Condition_Wet)  \n",
       "3   (Crash Total Injury Count, Speed Limit, Surfac...  \n",
       "4   (Crash Time, Crash Total Injury Count, Speed L...  \n",
       "5   (Crash Time, Crash Total Injury Count, Speed L...  \n",
       "6   (Crash Time, Crash Total Injury Count, Speed L...  \n",
       "7   (Crash Time, Crash Total Injury Count, Speed L...  \n",
       "8   (Crash Time, Crash Total Injury Count, Speed L...  \n",
       "9   (Crash Time, Crash Total Injury Count, Speed L...  \n",
       "10  (Crash Time, Crash Total Injury Count, Speed L...  "
      ]
     },
     "metadata": {},
     "output_type": "display_data"
    }
   ],
   "source": [
    "#Define Sequential Forward Selection (sfs)\n",
    "sfs = SFS(LogisticRegression(),\n",
    "           k_features=10,\n",
    "           forward=True,\n",
    "           floating=False,\n",
    "           scoring = 'r2',\n",
    "           cv = 0)\n",
    "#Use SFS to select the top 5 features \n",
    "sfs.fit(X_train1, y_train1)\n",
    "\n",
    "#Create a dataframe for the SFS results \n",
    "df_SFS_results = pd.DataFrame(sfs.subsets_).transpose()\n",
    "df_SFS_results"
   ]
  },
  {
   "cell_type": "markdown",
   "id": "c26644e8",
   "metadata": {},
   "source": [
    "('Crash Time', 'Crash Total Injury Count', 'Speed Limit', \"$1000 Damage to Any One Person's Property_Yes\", 'Roadway Part_Entrance/On Ramp', 'Surface Condition_Wet')"
   ]
  },
  {
   "cell_type": "code",
   "execution_count": 62,
   "id": "4ef58c14",
   "metadata": {},
   "outputs": [],
   "source": [
    "# Selecting top 6 features as the performance peaks at 5 features from above plot\n",
    "forwardSelection = bikeCrash_wDummmy1[['Crash Time', \n",
    "                                        'Crash Total Injury Count', \n",
    "                                        'Speed Limit', \n",
    "                                        \"$1000 Damage to Any One Person's Property_Yes\", \n",
    "                                        'Roadway Part_Entrance/On Ramp', \n",
    "                                        'Surface Condition_Wet',\n",
    "                                       'severity']]"
   ]
  },
  {
   "cell_type": "code",
   "execution_count": 63,
   "id": "8e4ec6aa",
   "metadata": {},
   "outputs": [
    {
     "name": "stdout",
     "output_type": "stream",
     "text": [
      "Optimization terminated successfully.\n",
      "         Current function value: 0.630562\n",
      "         Iterations 6\n",
      "                                       Results: Logit\n",
      "=============================================================================================\n",
      "Model:                         Logit                     Pseudo R-squared:          0.008    \n",
      "Dependent Variable:            severity                  AIC:                       2186.1764\n",
      "Date:                          2023-01-29 23:47          BIC:                       2218.8908\n",
      "No. Observations:              1724                      Log-Likelihood:            -1087.1  \n",
      "Df Model:                      5                         LL-Null:                   -1096.2  \n",
      "Df Residuals:                  1718                      LLR p-value:               0.0026981\n",
      "Converged:                     1.0000                    Scale:                     1.0000   \n",
      "No. Iterations:                6.0000                                                        \n",
      "---------------------------------------------------------------------------------------------\n",
      "                                               Coef.  Std.Err.    z    P>|z|   [0.025  0.975]\n",
      "---------------------------------------------------------------------------------------------\n",
      "Crash Time                                    -0.0001   0.0001 -1.0822 0.2792 -0.0003  0.0001\n",
      "Crash Total Injury Count                       0.2451   0.0816  3.0040 0.0027  0.0852  0.4051\n",
      "Speed Limit                                   -0.0250   0.0041 -6.0366 0.0000 -0.0331 -0.0168\n",
      "$1000 Damage to Any One Person's Property_Yes  0.2182   0.1125  1.9405 0.0523 -0.0022  0.4387\n",
      "Roadway Part_Entrance/On Ramp                  0.3924   0.9206  0.4263 0.6699 -1.4119  2.1968\n",
      "Surface Condition_Wet                          0.3422   0.2143  1.5965 0.1104 -0.0779  0.7622\n",
      "=============================================================================================\n",
      "\n"
     ]
    }
   ],
   "source": [
    "X_train2, X_test2, y_train2, y_test2 = train_test_split(forwardSelection.drop('severity',axis=1), \n",
    "                                                    forwardSelection['severity'], test_size=0.30, \n",
    "                                                    random_state=100)\n",
    "\n",
    "logit_model_summary2=sm.Logit(y_train2,X_train2)\n",
    "result=logit_model_summary2.fit()\n",
    "print(result.summary2())"
   ]
  },
  {
   "cell_type": "code",
   "execution_count": 64,
   "id": "e21b396c",
   "metadata": {},
   "outputs": [
    {
     "name": "stdout",
     "output_type": "stream",
     "text": [
      "Accuracy of logistic regression classifier on test set: 0.67\n",
      "CPU times: total: 31.2 ms\n",
      "Wall time: 25.4 ms\n"
     ]
    }
   ],
   "source": [
    "%%time\n",
    "logit_model1_2 = LogisticRegression(max_iter=3000)\n",
    "logit_model1_2.fit(X_train2,y_train2)\n",
    "y_pred2 = logit_model1_2.predict(X_test2)\n",
    "print('Accuracy of logistic regression classifier on test set: {:.2f}'.format(logit_model1_2.score(X_test2, y_test2)))"
   ]
  },
  {
   "cell_type": "code",
   "execution_count": 65,
   "id": "9f9df490",
   "metadata": {},
   "outputs": [
    {
     "name": "stdout",
     "output_type": "stream",
     "text": [
      "              precision    recall  f1-score   support\n",
      "\n",
      "           0       0.67      0.98      0.79       486\n",
      "           1       0.64      0.06      0.10       253\n",
      "\n",
      "    accuracy                           0.67       739\n",
      "   macro avg       0.65      0.52      0.45       739\n",
      "weighted avg       0.66      0.67      0.56       739\n",
      "\n"
     ]
    }
   ],
   "source": [
    "print(classification_report(y_test2,y_pred2))"
   ]
  },
  {
   "cell_type": "code",
   "execution_count": 66,
   "id": "d7627021",
   "metadata": {},
   "outputs": [
    {
     "name": "stdout",
     "output_type": "stream",
     "text": [
      "Accuracy: 0.6657645466847091\n",
      "Precision: 0.6363636363636364\n",
      "Recall: 0.05533596837944664\n",
      "MSE: 0.3342354533152909\n"
     ]
    }
   ],
   "source": [
    "print(\"Accuracy:\",metrics.accuracy_score(y_test2, y_pred2))\n",
    "print(\"Precision:\",metrics.precision_score(y_test2, y_pred2))\n",
    "print(\"Recall:\",metrics.recall_score(y_test2, y_pred2))\n",
    "print('MSE:',mean_squared_error(y_test2, y_pred2))"
   ]
  },
  {
   "cell_type": "code",
   "execution_count": 67,
   "id": "b5360eba",
   "metadata": {},
   "outputs": [
    {
     "data": {
      "text/plain": [
       "array([[478,   8],\n",
       "       [239,  14]], dtype=int64)"
      ]
     },
     "execution_count": 67,
     "metadata": {},
     "output_type": "execute_result"
    }
   ],
   "source": [
    "# Confusion matrix \n",
    "confusionMatrix = metrics.confusion_matrix(y_test2, y_pred2)\n",
    "confusionMatrix"
   ]
  },
  {
   "cell_type": "code",
   "execution_count": 68,
   "id": "87d5dbcd",
   "metadata": {},
   "outputs": [
    {
     "data": {
      "text/plain": [
       "<AxesSubplot:>"
      ]
     },
     "execution_count": 68,
     "metadata": {},
     "output_type": "execute_result"
    },
    {
     "data": {
      "image/png": "[encoded data removed]",
      "text/plain": [
       "<Figure size 504x360 with 2 Axes>"
      ]
     },
     "metadata": {
      "needs_background": "light"
     },
     "output_type": "display_data"
    }
   ],
   "source": [
    "fig = plt.gcf()\n",
    "fig.set_size_inches(7, 5)\n",
    "group_names = ['True Neg','False Pos','False Neg','True Pos']\n",
    "group_counts = [\"{0:0.0f}\".format(value) for value in\n",
    "                confusionMatrix.flatten()]\n",
    "group_percentages = [\"{0:.2%}\".format(value) for value in\n",
    "                     confusionMatrix.flatten()/np.sum(confusionMatrix)]\n",
    "labels = [f\"{v1}\\n{v2}\\n{v3}\" for v1, v2, v3 in\n",
    "          zip(group_names,group_counts,group_percentages)]\n",
    "labels = np.asarray(labels).reshape(2,2)\n",
    "sns.heatmap(confusionMatrix, annot=labels, fmt='')"
   ]
  },
  {
   "cell_type": "code",
   "execution_count": 69,
   "id": "61a38d0a",
   "metadata": {},
   "outputs": [],
   "source": [
    "#modelResults\n",
    "time2 = 42.5\n",
    "accuracy2 = 66.58\n",
    "precision2 = 63.64\n",
    "recall2 = 5.53\n",
    "mse2 = 33.42\n",
    "aic2 = 2186.1764\n",
    "falsepos2 = 1.08"
   ]
  },
  {
   "cell_type": "markdown",
   "id": "b0855ce8",
   "metadata": {},
   "source": [
    "## Model 3: Decision Tree\n"
   ]
  },
  {
   "cell_type": "code",
   "execution_count": 70,
   "id": "dcd36396",
   "metadata": {},
   "outputs": [
    {
     "name": "stdout",
     "output_type": "stream",
     "text": [
      "CPU times: total: 0 ns\n",
      "Wall time: 2.99 ms\n"
     ]
    },
    {
     "data": {
      "text/plain": [
       "DecisionTreeClassifier(max_depth=4)"
      ]
     },
     "execution_count": 70,
     "metadata": {},
     "output_type": "execute_result"
    }
   ],
   "source": [
    "%%time\n",
    "dt4 = DecisionTreeClassifier(max_depth=4)\n",
    "dt4.fit(X_train1,y_train1)"
   ]
  },
  {
   "cell_type": "code",
   "execution_count": 71,
   "id": "782ddd75",
   "metadata": {},
   "outputs": [],
   "source": [
    "y_pred4 = dt4.predict(X_test1)\n",
    "confusionMatrix = confusion_matrix(y_test1, dt4.predict(X_test1))"
   ]
  },
  {
   "cell_type": "code",
   "execution_count": 72,
   "id": "e1f47202",
   "metadata": {},
   "outputs": [
    {
     "data": {
      "text/plain": [
       "<AxesSubplot:>"
      ]
     },
     "execution_count": 72,
     "metadata": {},
     "output_type": "execute_result"
    },
    {
     "data": {
      "image/png": "[encoded data removed]",
      "text/plain": [
       "<Figure size 504x360 with 2 Axes>"
      ]
     },
     "metadata": {
      "needs_background": "light"
     },
     "output_type": "display_data"
    }
   ],
   "source": [
    "fig = plt.gcf()\n",
    "fig.set_size_inches(7, 5)\n",
    "group_names = ['True Neg','False Pos','False Neg','True Pos']\n",
    "group_counts = [\"{0:0.0f}\".format(value) for value in\n",
    "                confusionMatrix.flatten()]\n",
    "group_percentages = [\"{0:.2%}\".format(value) for value in\n",
    "                     confusionMatrix.flatten()/np.sum(confusionMatrix)]\n",
    "labels = [f\"{v1}\\n{v2}\\n{v3}\" for v1, v2, v3 in\n",
    "          zip(group_names,group_counts,group_percentages)]\n",
    "labels = np.asarray(labels).reshape(2,2)\n",
    "sns.heatmap(confusionMatrix, annot=labels, fmt='')"
   ]
  },
  {
   "cell_type": "code",
   "execution_count": 73,
   "id": "1cc85d51",
   "metadata": {},
   "outputs": [
    {
     "name": "stdout",
     "output_type": "stream",
     "text": [
      "Accuracy: 66.71%\n",
      "Precision: 100.0%\n",
      "Recall: 2.77%\n",
      "MSE: 33.29%\n"
     ]
    }
   ],
   "source": [
    "print('Accuracy: '+str(round(accuracy_score(y_test1, y_pred4)*100,2))+'%')\n",
    "print('Precision: '+str(round(precision_score(y_test1, y_pred4)*100,2))+'%')\n",
    "print('Recall: '+str(round(recall_score(y_test1, y_pred4)*100,2))+'%')\n",
    "print('MSE: '+str(round(mean_squared_error(y_test1, y_pred4)*100,2))+'%')"
   ]
  },
  {
   "cell_type": "code",
   "execution_count": 74,
   "id": "92c1320e",
   "metadata": {},
   "outputs": [],
   "source": [
    "#modelResults\n",
    "time3 = 14.4\n",
    "accuracy3 = 66.71\n",
    "precision3 = 100\n",
    "recall3 = 2.77\n",
    "mse3 = 33.29\n",
    "aic3 = 'NA'\n",
    "falsepos3 = 0"
   ]
  },
  {
   "cell_type": "code",
   "execution_count": 75,
   "id": "d1863de0",
   "metadata": {
    "scrolled": true
   },
   "outputs": [
    {
     "data": {
      "application/vnd.jupyter.widget-view+json": {
       "model_id": "f4874cdcdbc648b78e3ea0d7c6cd9899"
      },
      "text/plain": [
       "                                             index         0\n",
       "0                                       Crash Time  0.154029\n",
       "1                         Crash Total Injury Count  0.592315\n",
       "2                                      Speed Limit  0.021289\n",
       "3    $1000 Damage to Any One Person's Property_Yes  0.036385\n",
       "4                       At Intersection Flag_False  0.000000\n",
       "5                Intersection Related_Intersection  0.000000\n",
       "6        Intersection Related_Intersection Related  0.000000\n",
       "7            Intersection Related_Non Intersection  0.050691\n",
       "8                    Roadway Part_Entrance/On Ramp  0.000000\n",
       "9        Roadway Part_Other (Explain In Narrative)  0.000000\n",
       "10              Roadway Part_Service/Frontage Road  0.145291\n",
       "11                           Surface Condition_Ice  0.000000\n",
       "12  Surface Condition_Other (Explain In Narrative)  0.000000\n",
       "13               Surface Condition_Sand, Mud, Dirt  0.000000\n",
       "14                Surface Condition_Standing Water  0.000000\n",
       "15                           Surface Condition_Wet  0.000000"
      ]
     },
     "metadata": {},
     "output_type": "display_data"
    }
   ],
   "source": [
    "# Feature importance\n",
    "feature_names = (bikeCrash_wDummmy1.drop('severity',axis=1).columns)\n",
    "feature_importance = pd.DataFrame(dt4.feature_importances_, index= feature_names)\n",
    "feature_importance = feature_importance.reset_index()\n",
    "feature_importance.columns = [str(column) for column in feature_importance.columns]\n",
    "feature_importance"
   ]
  },
  {
   "cell_type": "code",
   "execution_count": 76,
   "id": "1e8d6e24",
   "metadata": {},
   "outputs": [
    {
     "data": {
      "application/vnd.jupyter.widget-view+json": {
       "model_id": "58c37cda6d6942299aba0f355ac9ed0f"
      },
      "text/plain": [
       "                                            index         0\n",
       "2                                     Speed Limit  0.021289\n",
       "3   $1000 Damage to Any One Person's Property_Yes  0.036385\n",
       "7           Intersection Related_Non Intersection  0.050691\n",
       "10             Roadway Part_Service/Frontage Road  0.145291\n",
       "0                                      Crash Time  0.154029\n",
       "1                        Crash Total Injury Count  0.592315"
      ]
     },
     "metadata": {},
     "output_type": "display_data"
    }
   ],
   "source": [
    "features = (feature_importance.loc[feature_importance['0'] > 0]).sort_values(by=['0'])\n",
    "features"
   ]
  },
  {
   "cell_type": "code",
   "execution_count": 77,
   "id": "2027d5b1",
   "metadata": {},
   "outputs": [
    {
     "name": "stdout",
     "output_type": "stream",
     "text": [
      "Classification report - \n",
      "               precision    recall  f1-score   support\n",
      "\n",
      "           0       0.66      1.00      0.80       486\n",
      "           1       1.00      0.03      0.05       253\n",
      "\n",
      "    accuracy                           0.67       739\n",
      "   macro avg       0.83      0.51      0.43       739\n",
      "weighted avg       0.78      0.67      0.54       739\n",
      "\n"
     ]
    }
   ],
   "source": [
    "print(\"Classification report - \\n\", classification_report(y_test1,y_pred4))"
   ]
  },
  {
   "cell_type": "markdown",
   "id": "6eef2fd5",
   "metadata": {},
   "source": [
    "## Ramdom forest"
   ]
  },
  {
   "cell_type": "code",
   "execution_count": 78,
   "id": "a44e26e1",
   "metadata": {},
   "outputs": [],
   "source": [
    "# splitting the data for random forest\n",
    "X_train_R, X_test_R, y_train_R, y_test_R = train_test_split(bikeCrash_wDummmy1.drop('severity',axis=1), \n",
    "                                                    bikeCrash_wDummmy1['severity'], test_size=0.30, \n",
    "                                                    random_state=101)"
   ]
  },
  {
   "cell_type": "code",
   "execution_count": 79,
   "id": "ef339f0a",
   "metadata": {},
   "outputs": [],
   "source": [
    "rf = RandomForestClassifier(n_estimators = 5000, criterion = 'entropy', random_state = 30, max_depth = 4)"
   ]
  },
  {
   "cell_type": "code",
   "execution_count": 80,
   "id": "efccf4cc",
   "metadata": {},
   "outputs": [
    {
     "name": "stdout",
     "output_type": "stream",
     "text": [
      "CPU times: total: 6.23 s\n",
      "Wall time: 7.69 s\n"
     ]
    }
   ],
   "source": [
    "%%time\n",
    "rf = rf.fit(X_train_R, y_train_R)"
   ]
  },
  {
   "cell_type": "code",
   "execution_count": 81,
   "id": "c96efe15",
   "metadata": {},
   "outputs": [],
   "source": [
    "rf_y = rf.predict(X_test_R)"
   ]
  },
  {
   "cell_type": "code",
   "execution_count": 82,
   "id": "03ad33f3",
   "metadata": {},
   "outputs": [
    {
     "name": "stdout",
     "output_type": "stream",
     "text": [
      "Accuracy: 0.6684709066305818\n",
      "Precision: 1.0\n",
      "Recall: 0.02390438247011952\n",
      "MSE: 0.33152909336941816\n",
      "              precision    recall  f1-score   support\n",
      "\n",
      "           0       0.67      1.00      0.80       488\n",
      "           1       1.00      0.02      0.05       251\n",
      "\n",
      "    accuracy                           0.67       739\n",
      "   macro avg       0.83      0.51      0.42       739\n",
      "weighted avg       0.78      0.67      0.54       739\n",
      "\n"
     ]
    }
   ],
   "source": [
    "print(\"Accuracy:\",metrics.accuracy_score(y_test_R, rf_y))\n",
    "print(\"Precision:\",metrics.precision_score(y_test_R, rf_y))\n",
    "print(\"Recall:\",metrics.recall_score(y_test_R, rf_y))\n",
    "print('MSE:',mean_squared_error(y_test_R, rf_y))\n",
    "print(classification_report(y_test_R, rf_y))"
   ]
  },
  {
   "cell_type": "code",
   "execution_count": 83,
   "id": "fd13238a",
   "metadata": {},
   "outputs": [],
   "source": [
    "#modelResults\n",
    "time4 = 7270\n",
    "accuracy4 = 66.84\n",
    "precision4 = 100\n",
    "recall4 = 2.39\n",
    "mse4 = 33.15\n",
    "aic4 = 'NA'\n",
    "falsepos4 = 0"
   ]
  },
  {
   "cell_type": "code",
   "execution_count": 84,
   "id": "302a571f",
   "metadata": {},
   "outputs": [
    {
     "data": {
      "text/plain": [
       "Text(0.5, 0, 'Feature Importance Random Forest')"
      ]
     },
     "execution_count": 84,
     "metadata": {},
     "output_type": "execute_result"
    },
    {
     "data": {
      "image/png": "[encoded data removed]",
      "text/plain": [
       "<Figure size 1440x1152 with 1 Axes>"
      ]
     },
     "metadata": {
      "needs_background": "light"
     },
     "output_type": "display_data"
    }
   ],
   "source": [
    "fig, ax = plt.subplots(figsize=(20,16))\n",
    "sorted_idx = rf.feature_importances_.argsort()\n",
    "plt.barh(X_train_R.columns[sorted_idx], rf.feature_importances_[sorted_idx])\n",
    "plt.xlabel(\"Feature Importance Random Forest\")"
   ]
  },
  {
   "cell_type": "code",
   "execution_count": 85,
   "id": "01fb766a",
   "metadata": {},
   "outputs": [
    {
     "data": {
      "application/vnd.jupyter.widget-view+json": {
       "model_id": "c9e1c28fd45046368b175201ce9a5f13"
      },
      "text/plain": [
       "                                        Model  Accuracy %  Precision %  \\\n",
       "0                         Logistic Regression       66.03        54.17   \n",
       "1  Logistic Regression with Forward Selection       66.58        63.64   \n",
       "2                               Decision Tree       66.71       100.00   \n",
       "3                               Random forest       66.84       100.00   \n",
       "\n",
       "   Recall %    MSE  Time (ms)        AIC  False Positives %  \n",
       "0      5.14  33.96      103.0  2189.0514               1.49  \n",
       "1      5.53  33.42       42.5  2186.1764               1.08  \n",
       "2      2.77  33.29       14.4         NA               0.00  \n",
       "3      2.39  33.15     7270.0         NA               0.00  "
      ]
     },
     "metadata": {},
     "output_type": "display_data"
    }
   ],
   "source": [
    "# Summarising all results \n",
    "modelResults = pd.DataFrame([['Logistic Regression', accuracy1,precision1,recall1, mse1, time1,aic1,falsepos1 ],\n",
    "                       ['Logistic Regression with Forward Selection', accuracy2,precision2,recall2, mse2, time2,aic2, falsepos2],\n",
    "                       ['Decision Tree', accuracy3,precision3,recall3, mse3, time3,aic3, falsepos3],\n",
    "                       ['Random forest', accuracy4,precision4,recall4, mse4, time4,aic4, falsepos4],],\n",
    "                       columns=['Model', 'Accuracy %', 'Precision %', 'Recall %', 'MSE','Time (ms)','AIC', 'False Positives %'])\n",
    "modelResults\n"
   ]
  },
  {
   "cell_type": "code",
   "execution_count": null,
   "id": "65dd9bcd",
   "metadata": {},
   "outputs": [],
   "source": []
  }
 ],
 "metadata": {
  "kernelspec": {
   "display_name": "Python 3 (ipykernel)",
   "language": "python",
   "name": "python3"
  },
  "language_info": {
   "codemirror_mode": {
    "name": "ipython",
    "version": 3
   },
   "file_extension": ".py",
   "mimetype": "text/x-python",
   "name": "python",
   "nbconvert_exporter": "python",
   "pygments_lexer": "ipython3",
   "version": "3.9.12"
  }
 },
 "nbformat": 4,
 "nbformat_minor": 5
}
